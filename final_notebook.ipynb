{
 "cells": [
  {
   "cell_type": "markdown",
   "metadata": {},
   "source": [
    "# Pump it Up: Tanzania Water Wells\n",
    "\n",
    "**Authors:** Kevin McDonough, Ryan Reilly"
   ]
  },
  {
   "cell_type": "markdown",
   "metadata": {},
   "source": [
    "![title](images/HappyKid_well.jpeg)"
   ]
  },
  {
   "cell_type": "markdown",
   "metadata": {},
   "source": [
    "## Overview\n",
    "\n",
    "This project analyzes data for over 74,000 water wells that have been installed in Tanzania over the years. The goal of this analysis is to determine what features of a water well provide a good prediction if the well is functional, not functional, or functional but needs repair. This will be done through exploratory data analysis and iterative predictive modeling using classification models. "
   ]
  },
  {
   "cell_type": "markdown",
   "metadata": {},
   "source": [
    "## Business Problem\n",
    "\n",
    "The Tanzania Ministry of Water have hired us to predict the operating condition for wells in their country. They will use our analysis to send teams of people out to fix the waterpoints that are currently not functional or need repair. Based on our analysis, we are going to provide reccomendations based on the following.\n",
    "\n",
    "- Which wells you should start fixing first based on location\n",
    "- Which funders and installers to focus on when building new wells\n",
    "- Which type of wells should be used to replace non-functional wells\n",
    "- Who should manage the wells"
   ]
  },
  {
   "cell_type": "markdown",
   "metadata": {},
   "source": [
    "## Data Understanding\n",
    "\n",
    "Each row in this dataset represents a unique water well in Tanzania and surrounding information about the well. There are a number of columns related to geo location of the well. There is also a good mix of continuous and categorical variables in the dataset. Each feature and its description is listed below."
   ]
  },
  {
   "cell_type": "markdown",
   "metadata": {},
   "source": [
    "The below cell allows us to left align the below data dictionary table"
   ]
  },
  {
   "cell_type": "code",
   "execution_count": 167,
   "metadata": {},
   "outputs": [
    {
     "data": {
      "text/html": [
       "<style>\n",
       "table {float:left}\n",
       "</style>\n"
      ],
      "text/plain": [
       "<IPython.core.display.HTML object>"
      ]
     },
     "metadata": {},
     "output_type": "display_data"
    }
   ],
   "source": [
    "%%html\n",
    "<style>\n",
    "table {float:left}\n",
    "</style>"
   ]
  },
  {
   "cell_type": "markdown",
   "metadata": {},
   "source": [
    "| Feature | Description|\n",
    "|:-------| :-------|\n",
    "|amount_tsh| Total static head (amount water available to waterpoint)|\n",
    "|date_recorded| The date the row was entered|\n",
    "|funder| Who funded the well|\n",
    "|gps_height| Altitude of the well|\n",
    "|installer| Organization that installed the well|\n",
    "|longitude| GPS coordinate|\n",
    "|latitude| GPS coordinate|\n",
    "|wpt_name| Name of the waterpoint if there is one|\n",
    "|num_private| No info for this column|\n",
    "|basin| Geographic water basin|\n",
    "|subvillage| Geographic location|\n",
    "|region| Geographic location|\n",
    "|region_code| Geographic location (coded)|\n",
    "|district_code| Geographic location (coded)|\n",
    "|lga| Geographic location|\n",
    "|ward| Geographic location|\n",
    "|population| Population around the well|\n",
    "|public_meeting| Whether a public meeting was held in the village about WP management|\n",
    "|recorded_by| Group entering this row of data|\n",
    "|scheme_management| Who operates the waterpoint|\n",
    "|scheme_name| Who operates the waterpoint|\n",
    "|permit| If the waterpoint is permitted|\n",
    "|construction_year| Year the waterpoint was constructed|\n",
    "|extraction_type| The kind of extraction the waterpoint uses|\n",
    "|extraction_type_group| The kind of extraction the waterpoint uses|\n",
    "|extraction_type_class| The kind of extraction the waterpoint uses|\n",
    "|management| How the waterpoint is managed|\n",
    "|management_group| How the waterpoint is managed|\n",
    "|payment| What the water costs|\n",
    "|payment_type| What the water costs|\n",
    "|water_quality| The quality of the water|\n",
    "|quality_group| The quality of the water|\n",
    "|quantity| The quantity of water|\n",
    "|quantity_group| The quantity of water|\n",
    "|source| The source of the water|\n",
    "|source_type| The source of the water|\n",
    "|source_class| The source of the water|\n",
    "|waterpoint_type| The kind of waterpoint|\n",
    "|waterpoint_type_group| The kind of waterpoint|"
   ]
  },
  {
   "cell_type": "markdown",
   "metadata": {},
   "source": [
    "#### Importing packages and loading the datasets"
   ]
  },
  {
   "cell_type": "code",
   "execution_count": 1,
   "metadata": {},
   "outputs": [],
   "source": [
    "import pandas as pd\n",
    "import numpy as np\n",
    "\n",
    "import matplotlib.pyplot as plt\n",
    "import seaborn as sns\n",
    "import matplotlib as mpl\n",
    "%matplotlib inline\n",
    "\n",
    "from sklearn.preprocessing import OneHotEncoder, StandardScaler\n",
    "\n",
    "from sklearn.impute import MissingIndicator, SimpleImputer\n",
    "\n",
    "from sklearn.dummy import DummyClassifier\n",
    "from sklearn.linear_model import LogisticRegression\n",
    "from sklearn.tree import DecisionTreeClassifier\n",
    "from sklearn.ensemble import RandomForestClassifier\n",
    "from sklearn.neighbors import KNeighborsClassifier\n",
    "from xgboost import XGBClassifier\n",
    "from sklearn import svm\n",
    "\n",
    "from sklearn.model_selection import train_test_split, cross_val_score, GridSearchCV\n",
    "from sklearn.feature_selection import SelectFromModel\n",
    "from sklearn.dummy import DummyClassifier\n",
    "\n",
    "from sklearn.metrics import plot_confusion_matrix\n",
    "from sklearn.metrics import confusion_matrix, accuracy_score, precision_score, recall_score, f1_score, classification_report \n",
    "from sklearn.metrics import plot_roc_curve\n",
    "\n",
    "from imblearn.over_sampling import SMOTE\n",
    "from imblearn.pipeline import Pipeline as imbPipeline\n",
    "\n",
    "import folium\n",
    "from folium.plugins import HeatMap\n",
    "from folium.plugins import MarkerCluster\n",
    "import json\n",
    "\n",
    "from sklearn.pipeline import Pipeline\n",
    "from sklearn.compose import ColumnTransformer\n",
    "import time\n",
    "\n",
    "from IPython.display import display, HTML\n",
    "\n",
    "#Use the functions in the py file for preprocessing\n",
    "import sys\n",
    "sys.path.insert(0, 'src/')\n",
    "import preprocessing\n",
    "\n",
    "import warnings\n",
    "warnings.filterwarnings('ignore')"
   ]
  },
  {
   "cell_type": "code",
   "execution_count": 2,
   "metadata": {},
   "outputs": [],
   "source": [
    "#Import the data\n",
    "X_train = pd.read_csv('data/X_train.csv')\n",
    "X_test = pd.read_csv('data/X_test.csv')\n",
    "y_train = pd.read_csv('data/y_train.csv')\n",
    "\n",
    "# for ED and train/test/split\n",
    "xy_train = X_train.merge(y_train, on='id', how='inner')\n",
    "\n",
    "#This was created for a visual in EDA where we did not want to prepocess anything\n",
    "xy_train2 = xy_train.copy()"
   ]
  },
  {
   "cell_type": "markdown",
   "metadata": {},
   "source": [
    "#### Get an understanding of the data"
   ]
  },
  {
   "cell_type": "code",
   "execution_count": 3,
   "metadata": {},
   "outputs": [
    {
     "name": "stdout",
     "output_type": "stream",
     "text": [
      "<class 'pandas.core.frame.DataFrame'>\n",
      "RangeIndex: 59400 entries, 0 to 59399\n",
      "Data columns (total 40 columns):\n",
      " #   Column                 Non-Null Count  Dtype  \n",
      "---  ------                 --------------  -----  \n",
      " 0   id                     59400 non-null  int64  \n",
      " 1   amount_tsh             59400 non-null  float64\n",
      " 2   date_recorded          59400 non-null  object \n",
      " 3   funder                 55765 non-null  object \n",
      " 4   gps_height             59400 non-null  int64  \n",
      " 5   installer              55745 non-null  object \n",
      " 6   longitude              59400 non-null  float64\n",
      " 7   latitude               59400 non-null  float64\n",
      " 8   wpt_name               59400 non-null  object \n",
      " 9   num_private            59400 non-null  int64  \n",
      " 10  basin                  59400 non-null  object \n",
      " 11  subvillage             59029 non-null  object \n",
      " 12  region                 59400 non-null  object \n",
      " 13  region_code            59400 non-null  int64  \n",
      " 14  district_code          59400 non-null  int64  \n",
      " 15  lga                    59400 non-null  object \n",
      " 16  ward                   59400 non-null  object \n",
      " 17  population             59400 non-null  int64  \n",
      " 18  public_meeting         56066 non-null  object \n",
      " 19  recorded_by            59400 non-null  object \n",
      " 20  scheme_management      55523 non-null  object \n",
      " 21  scheme_name            31234 non-null  object \n",
      " 22  permit                 56344 non-null  object \n",
      " 23  construction_year      59400 non-null  int64  \n",
      " 24  extraction_type        59400 non-null  object \n",
      " 25  extraction_type_group  59400 non-null  object \n",
      " 26  extraction_type_class  59400 non-null  object \n",
      " 27  management             59400 non-null  object \n",
      " 28  management_group       59400 non-null  object \n",
      " 29  payment                59400 non-null  object \n",
      " 30  payment_type           59400 non-null  object \n",
      " 31  water_quality          59400 non-null  object \n",
      " 32  quality_group          59400 non-null  object \n",
      " 33  quantity               59400 non-null  object \n",
      " 34  quantity_group         59400 non-null  object \n",
      " 35  source                 59400 non-null  object \n",
      " 36  source_type            59400 non-null  object \n",
      " 37  source_class           59400 non-null  object \n",
      " 38  waterpoint_type        59400 non-null  object \n",
      " 39  waterpoint_type_group  59400 non-null  object \n",
      "dtypes: float64(3), int64(7), object(30)\n",
      "memory usage: 18.1+ MB\n",
      "---------------------------------------------------\n",
      "X_train shape: (59400, 40)\n",
      "y_train shape: (59400, 2)\n",
      "X_test shape: (14850, 40)\n"
     ]
    }
   ],
   "source": [
    "#Take a look at the datatypes\n",
    "X_train.info()\n",
    "print('---------------------------------------------------')\n",
    "print('X_train shape: {}'.format(X_train.shape))\n",
    "print('y_train shape: {}'.format(y_train.shape))\n",
    "print('X_test shape: {}'.format(X_test.shape))"
   ]
  },
  {
   "cell_type": "markdown",
   "metadata": {},
   "source": [
    "From the info above, it looks like we have 59,400 rows in our training data representing water wells with 39 columns. We will have to decide how we want to treat the columns with nulls which are funder, installer, subvillage, public_meeting, scheme_management, sheme_name, and permit. Most of our data types are objects, so we will need to encode a lot of these variables to for our classification models. There also looks to be a lot of columns that may have the same type of information (ie, waterpoint_type and waterpoint_type_group) so we will explore these value_counts. "
   ]
  },
  {
   "cell_type": "code",
   "execution_count": 4,
   "metadata": {
    "scrolled": true
   },
   "outputs": [
    {
     "data": {
      "text/plain": [
       "functional                 32259\n",
       "non functional             22824\n",
       "functional needs repair     4317\n",
       "Name: status_group, dtype: int64"
      ]
     },
     "execution_count": 4,
     "metadata": {},
     "output_type": "execute_result"
    }
   ],
   "source": [
    "#Take a look at the outcome variable and its value counts\n",
    "xy_train['status_group'].value_counts()"
   ]
  },
  {
   "cell_type": "markdown",
   "metadata": {},
   "source": [
    "There are three classes. There looks to be a good balance of functional and non functional values, but there is a low sample of functional needs repair. Since this is pretty imbalanced, we may need to implement a resampling techinique to synthitically create more values in this third class. We may use SMOTE when we get to the modeling stage. "
   ]
  },
  {
   "cell_type": "markdown",
   "metadata": {},
   "source": [
    "## Data Preparation"
   ]
  },
  {
   "cell_type": "markdown",
   "metadata": {},
   "source": [
    "### Handle Missing Values"
   ]
  },
  {
   "cell_type": "code",
   "execution_count": 168,
   "metadata": {},
   "outputs": [
    {
     "data": {
      "text/html": [
       "<div>\n",
       "<style scoped>\n",
       "    .dataframe tbody tr th:only-of-type {\n",
       "        vertical-align: middle;\n",
       "    }\n",
       "\n",
       "    .dataframe tbody tr th {\n",
       "        vertical-align: top;\n",
       "    }\n",
       "\n",
       "    .dataframe thead th {\n",
       "        text-align: right;\n",
       "    }\n",
       "</style>\n",
       "<table border=\"1\" class=\"dataframe\">\n",
       "  <thead>\n",
       "    <tr style=\"text-align: right;\">\n",
       "      <th></th>\n",
       "      <th>Nulls</th>\n",
       "    </tr>\n",
       "    <tr>\n",
       "      <th>Feature</th>\n",
       "      <th></th>\n",
       "    </tr>\n",
       "  </thead>\n",
       "  <tbody>\n",
       "    <tr>\n",
       "      <th>lga</th>\n",
       "      <td>0</td>\n",
       "    </tr>\n",
       "    <tr>\n",
       "      <th>ward</th>\n",
       "      <td>0</td>\n",
       "    </tr>\n",
       "    <tr>\n",
       "      <th>population</th>\n",
       "      <td>0</td>\n",
       "    </tr>\n",
       "    <tr>\n",
       "      <th>public_meeting</th>\n",
       "      <td>0</td>\n",
       "    </tr>\n",
       "    <tr>\n",
       "      <th>scheme_management</th>\n",
       "      <td>0</td>\n",
       "    </tr>\n",
       "    <tr>\n",
       "      <th>permit</th>\n",
       "      <td>0</td>\n",
       "    </tr>\n",
       "    <tr>\n",
       "      <th>scheme_name</th>\n",
       "      <td>28166</td>\n",
       "    </tr>\n",
       "  </tbody>\n",
       "</table>\n",
       "</div>"
      ],
      "text/plain": [
       "                   Nulls\n",
       "Feature                 \n",
       "lga                    0\n",
       "ward                   0\n",
       "population             0\n",
       "public_meeting         0\n",
       "scheme_management      0\n",
       "permit                 0\n",
       "scheme_name        28166"
      ]
     },
     "execution_count": 168,
     "metadata": {},
     "output_type": "execute_result"
    }
   ],
   "source": [
    "#Create a dataframe with just those columns with NAs and there sums.\n",
    "\n",
    "missing = pd.DataFrame(xy_train.isna().sum(), columns = ['Nulls'])\n",
    "missing.index.name = 'Feature'\n",
    "    \n",
    "missing.sort_values(by=['Nulls'])[-7:]"
   ]
  },
  {
   "cell_type": "markdown",
   "metadata": {},
   "source": [
    "#### funder, installer, subvillage, and scheme_management"
   ]
  },
  {
   "cell_type": "code",
   "execution_count": 6,
   "metadata": {},
   "outputs": [],
   "source": [
    "columns = xy_train[['funder', 'installer', 'subvillage', 'scheme_management']]\n",
    "\n",
    "def impute_unknown(data, columns):\n",
    "    '''Replace NAs with Unknown.'''\n",
    "    for col in columns:\n",
    "        data[col].fillna(value='Unknown', inplace=True)\n",
    "\n",
    "impute_unknown(xy_train, columns)"
   ]
  },
  {
   "cell_type": "markdown",
   "metadata": {},
   "source": [
    "For the above categorical columns, we decided to replace NAs with 'Unknown'"
   ]
  },
  {
   "cell_type": "markdown",
   "metadata": {},
   "source": [
    "#### public_meeting and permit"
   ]
  },
  {
   "cell_type": "code",
   "execution_count": 7,
   "metadata": {},
   "outputs": [],
   "source": [
    "columns = xy_train[['public_meeting', 'permit']]\n",
    "\n",
    "def impute_false(data, columns):\n",
    "    '''Replace NAs with False.'''\n",
    "    for col in columns:\n",
    "        data[col].fillna(value='False', inplace=True)\n",
    "\n",
    "impute_false(xy_train, columns)"
   ]
  },
  {
   "cell_type": "markdown",
   "metadata": {},
   "source": [
    "Both of the above columns were boolean and we decided to replace NAs with the overwhelmingly False value"
   ]
  },
  {
   "cell_type": "markdown",
   "metadata": {},
   "source": [
    "#### scheme_name"
   ]
  },
  {
   "cell_type": "markdown",
   "metadata": {},
   "source": [
    "This column had too many NAs (over half of the rows) so we will drop from the dataset."
   ]
  },
  {
   "cell_type": "markdown",
   "metadata": {},
   "source": [
    "### Handle Outliers"
   ]
  },
  {
   "cell_type": "code",
   "execution_count": 8,
   "metadata": {
    "scrolled": true
   },
   "outputs": [
    {
     "data": {
      "text/html": [
       "<div>\n",
       "<style scoped>\n",
       "    .dataframe tbody tr th:only-of-type {\n",
       "        vertical-align: middle;\n",
       "    }\n",
       "\n",
       "    .dataframe tbody tr th {\n",
       "        vertical-align: top;\n",
       "    }\n",
       "\n",
       "    .dataframe thead th {\n",
       "        text-align: right;\n",
       "    }\n",
       "</style>\n",
       "<table border=\"1\" class=\"dataframe\">\n",
       "  <thead>\n",
       "    <tr style=\"text-align: right;\">\n",
       "      <th></th>\n",
       "      <th>id</th>\n",
       "      <th>amount_tsh</th>\n",
       "      <th>gps_height</th>\n",
       "      <th>longitude</th>\n",
       "      <th>latitude</th>\n",
       "      <th>num_private</th>\n",
       "      <th>region_code</th>\n",
       "      <th>district_code</th>\n",
       "      <th>population</th>\n",
       "      <th>construction_year</th>\n",
       "    </tr>\n",
       "  </thead>\n",
       "  <tbody>\n",
       "    <tr>\n",
       "      <th>count</th>\n",
       "      <td>59400.000000</td>\n",
       "      <td>59400.000000</td>\n",
       "      <td>59400.000000</td>\n",
       "      <td>59400.000000</td>\n",
       "      <td>5.940000e+04</td>\n",
       "      <td>59400.000000</td>\n",
       "      <td>59400.000000</td>\n",
       "      <td>59400.000000</td>\n",
       "      <td>59400.000000</td>\n",
       "      <td>59400.000000</td>\n",
       "    </tr>\n",
       "    <tr>\n",
       "      <th>mean</th>\n",
       "      <td>37115.131768</td>\n",
       "      <td>317.650385</td>\n",
       "      <td>668.297239</td>\n",
       "      <td>34.077427</td>\n",
       "      <td>-5.706033e+00</td>\n",
       "      <td>0.474141</td>\n",
       "      <td>15.297003</td>\n",
       "      <td>5.629747</td>\n",
       "      <td>179.909983</td>\n",
       "      <td>1300.652475</td>\n",
       "    </tr>\n",
       "    <tr>\n",
       "      <th>std</th>\n",
       "      <td>21453.128371</td>\n",
       "      <td>2997.574558</td>\n",
       "      <td>693.116350</td>\n",
       "      <td>6.567432</td>\n",
       "      <td>2.946019e+00</td>\n",
       "      <td>12.236230</td>\n",
       "      <td>17.587406</td>\n",
       "      <td>9.633649</td>\n",
       "      <td>471.482176</td>\n",
       "      <td>951.620547</td>\n",
       "    </tr>\n",
       "    <tr>\n",
       "      <th>min</th>\n",
       "      <td>0.000000</td>\n",
       "      <td>0.000000</td>\n",
       "      <td>-90.000000</td>\n",
       "      <td>0.000000</td>\n",
       "      <td>-1.164944e+01</td>\n",
       "      <td>0.000000</td>\n",
       "      <td>1.000000</td>\n",
       "      <td>0.000000</td>\n",
       "      <td>0.000000</td>\n",
       "      <td>0.000000</td>\n",
       "    </tr>\n",
       "    <tr>\n",
       "      <th>25%</th>\n",
       "      <td>18519.750000</td>\n",
       "      <td>0.000000</td>\n",
       "      <td>0.000000</td>\n",
       "      <td>33.090347</td>\n",
       "      <td>-8.540621e+00</td>\n",
       "      <td>0.000000</td>\n",
       "      <td>5.000000</td>\n",
       "      <td>2.000000</td>\n",
       "      <td>0.000000</td>\n",
       "      <td>0.000000</td>\n",
       "    </tr>\n",
       "    <tr>\n",
       "      <th>50%</th>\n",
       "      <td>37061.500000</td>\n",
       "      <td>0.000000</td>\n",
       "      <td>369.000000</td>\n",
       "      <td>34.908743</td>\n",
       "      <td>-5.021597e+00</td>\n",
       "      <td>0.000000</td>\n",
       "      <td>12.000000</td>\n",
       "      <td>3.000000</td>\n",
       "      <td>25.000000</td>\n",
       "      <td>1986.000000</td>\n",
       "    </tr>\n",
       "    <tr>\n",
       "      <th>75%</th>\n",
       "      <td>55656.500000</td>\n",
       "      <td>20.000000</td>\n",
       "      <td>1319.250000</td>\n",
       "      <td>37.178387</td>\n",
       "      <td>-3.326156e+00</td>\n",
       "      <td>0.000000</td>\n",
       "      <td>17.000000</td>\n",
       "      <td>5.000000</td>\n",
       "      <td>215.000000</td>\n",
       "      <td>2004.000000</td>\n",
       "    </tr>\n",
       "    <tr>\n",
       "      <th>max</th>\n",
       "      <td>74247.000000</td>\n",
       "      <td>350000.000000</td>\n",
       "      <td>2770.000000</td>\n",
       "      <td>40.345193</td>\n",
       "      <td>-2.000000e-08</td>\n",
       "      <td>1776.000000</td>\n",
       "      <td>99.000000</td>\n",
       "      <td>80.000000</td>\n",
       "      <td>30500.000000</td>\n",
       "      <td>2013.000000</td>\n",
       "    </tr>\n",
       "  </tbody>\n",
       "</table>\n",
       "</div>"
      ],
      "text/plain": [
       "                 id     amount_tsh    gps_height     longitude      latitude  \\\n",
       "count  59400.000000   59400.000000  59400.000000  59400.000000  5.940000e+04   \n",
       "mean   37115.131768     317.650385    668.297239     34.077427 -5.706033e+00   \n",
       "std    21453.128371    2997.574558    693.116350      6.567432  2.946019e+00   \n",
       "min        0.000000       0.000000    -90.000000      0.000000 -1.164944e+01   \n",
       "25%    18519.750000       0.000000      0.000000     33.090347 -8.540621e+00   \n",
       "50%    37061.500000       0.000000    369.000000     34.908743 -5.021597e+00   \n",
       "75%    55656.500000      20.000000   1319.250000     37.178387 -3.326156e+00   \n",
       "max    74247.000000  350000.000000   2770.000000     40.345193 -2.000000e-08   \n",
       "\n",
       "        num_private   region_code  district_code    population  \\\n",
       "count  59400.000000  59400.000000   59400.000000  59400.000000   \n",
       "mean       0.474141     15.297003       5.629747    179.909983   \n",
       "std       12.236230     17.587406       9.633649    471.482176   \n",
       "min        0.000000      1.000000       0.000000      0.000000   \n",
       "25%        0.000000      5.000000       2.000000      0.000000   \n",
       "50%        0.000000     12.000000       3.000000     25.000000   \n",
       "75%        0.000000     17.000000       5.000000    215.000000   \n",
       "max     1776.000000     99.000000      80.000000  30500.000000   \n",
       "\n",
       "       construction_year  \n",
       "count       59400.000000  \n",
       "mean         1300.652475  \n",
       "std           951.620547  \n",
       "min             0.000000  \n",
       "25%             0.000000  \n",
       "50%          1986.000000  \n",
       "75%          2004.000000  \n",
       "max          2013.000000  "
      ]
     },
     "execution_count": 8,
     "metadata": {},
     "output_type": "execute_result"
    }
   ],
   "source": [
    "xy_train.describe()"
   ]
  },
  {
   "cell_type": "markdown",
   "metadata": {},
   "source": [
    "There are a lot of zeros in the min row that dont make sense that we need to take care of. "
   ]
  },
  {
   "cell_type": "markdown",
   "metadata": {},
   "source": [
    "#### population, gps_height, latitude, longitude"
   ]
  },
  {
   "cell_type": "code",
   "execution_count": 9,
   "metadata": {},
   "outputs": [],
   "source": [
    "columns = xy_train[['population', 'gps_height', 'latitude', 'longitude']]\n",
    "\n",
    "def replace_zeros_mean(data, columns):\n",
    "    '''Replace zeros with mean of column.'''\n",
    "    for col in columns:\n",
    "        data[col].replace(0, data[col].mean(), inplace=True)\n",
    "        \n",
    "replace_zeros_mean(xy_train, columns)        "
   ]
  },
  {
   "cell_type": "markdown",
   "metadata": {},
   "source": [
    "For the above numerical columns, a value of zero does not make sense. Zero is an okay value for gps height, latitude and longitude in general, but based on Tanzanias geo location, this does not make sense."
   ]
  },
  {
   "cell_type": "markdown",
   "metadata": {},
   "source": [
    "#### construction_year"
   ]
  },
  {
   "cell_type": "code",
   "execution_count": 10,
   "metadata": {},
   "outputs": [],
   "source": [
    "columns = xy_train[['construction_year']]\n",
    "\n",
    "def replace_zeros_median(data, columns):\n",
    "    '''Replace zeros with mean of column.'''\n",
    "    for col in columns:\n",
    "        data[col].replace(0, data[col].median(), inplace=True)\n",
    "        \n",
    "replace_zeros_median(xy_train, columns)   "
   ]
  },
  {
   "cell_type": "markdown",
   "metadata": {},
   "source": [
    "For construction year, we replaced the zeros with the midean of the years, which ended up being 1986. "
   ]
  },
  {
   "cell_type": "markdown",
   "metadata": {},
   "source": [
    "#### latitude"
   ]
  },
  {
   "cell_type": "code",
   "execution_count": 11,
   "metadata": {},
   "outputs": [],
   "source": [
    "xy_train['latitude'].replace(to_replace = -2.000000e-08 , value =np.mean(xy_train['latitude']), inplace=True)"
   ]
  },
  {
   "cell_type": "markdown",
   "metadata": {},
   "source": [
    "There were latitudes that would place the well north of Tanzania, which does not make sense so we took the mean value."
   ]
  },
  {
   "cell_type": "markdown",
   "metadata": {},
   "source": [
    "### Check for row duplicates"
   ]
  },
  {
   "cell_type": "code",
   "execution_count": 12,
   "metadata": {},
   "outputs": [
    {
     "name": "stdout",
     "output_type": "stream",
     "text": [
      "Number of X_train duplicates: 0\n",
      "Number of X_test duplicates: 0\n"
     ]
    }
   ],
   "source": [
    "print('Number of X_train duplicates: {}'.format(len(xy_train[xy_train.duplicated()])))\n",
    "print('Number of X_test duplicates: {}'.format(len(X_test[X_test.duplicated()])))"
   ]
  },
  {
   "cell_type": "markdown",
   "metadata": {},
   "source": [
    "### Remove columns"
   ]
  },
  {
   "cell_type": "markdown",
   "metadata": {},
   "source": [
    "#### Check value counts of categorical variables to see if information is the same between columns"
   ]
  },
  {
   "cell_type": "markdown",
   "metadata": {},
   "source": [
    "The below cell allows us to view the value counts for similer columns side by side within a cell."
   ]
  },
  {
   "cell_type": "markdown",
   "metadata": {},
   "source": [
    "#### quntity_group vs quantity"
   ]
  },
  {
   "cell_type": "markdown",
   "metadata": {},
   "source": [
    "The below cell allows us to view the tables side by side. "
   ]
  },
  {
   "cell_type": "code",
   "execution_count": 13,
   "metadata": {},
   "outputs": [
    {
     "data": {
      "text/html": [
       "<style>\n",
       ".output {\n",
       "    flex-direction: row;\n",
       "}\n",
       "</style>"
      ],
      "text/plain": [
       "<IPython.core.display.HTML object>"
      ]
     },
     "execution_count": 13,
     "metadata": {},
     "output_type": "execute_result"
    }
   ],
   "source": [
    "CSS = \"\"\"\n",
    ".output {\n",
    "    flex-direction: row;\n",
    "}\n",
    "\"\"\"\n",
    "\n",
    "HTML('<style>{}</style>'.format(CSS))"
   ]
  },
  {
   "cell_type": "code",
   "execution_count": 14,
   "metadata": {
    "scrolled": true
   },
   "outputs": [
    {
     "data": {
      "text/html": [
       "<div>\n",
       "<style scoped>\n",
       "    .dataframe tbody tr th:only-of-type {\n",
       "        vertical-align: middle;\n",
       "    }\n",
       "\n",
       "    .dataframe tbody tr th {\n",
       "        vertical-align: top;\n",
       "    }\n",
       "\n",
       "    .dataframe thead th {\n",
       "        text-align: right;\n",
       "    }\n",
       "</style>\n",
       "<table border=\"1\" class=\"dataframe\">\n",
       "  <thead>\n",
       "    <tr style=\"text-align: right;\">\n",
       "      <th></th>\n",
       "      <th>quantity_group</th>\n",
       "    </tr>\n",
       "  </thead>\n",
       "  <tbody>\n",
       "    <tr>\n",
       "      <th>enough</th>\n",
       "      <td>33186</td>\n",
       "    </tr>\n",
       "    <tr>\n",
       "      <th>insufficient</th>\n",
       "      <td>15129</td>\n",
       "    </tr>\n",
       "    <tr>\n",
       "      <th>dry</th>\n",
       "      <td>6246</td>\n",
       "    </tr>\n",
       "    <tr>\n",
       "      <th>seasonal</th>\n",
       "      <td>4050</td>\n",
       "    </tr>\n",
       "    <tr>\n",
       "      <th>unknown</th>\n",
       "      <td>789</td>\n",
       "    </tr>\n",
       "  </tbody>\n",
       "</table>\n",
       "</div>"
      ],
      "text/plain": [
       "              quantity_group\n",
       "enough                 33186\n",
       "insufficient           15129\n",
       "dry                     6246\n",
       "seasonal                4050\n",
       "unknown                  789"
      ]
     },
     "metadata": {},
     "output_type": "display_data"
    },
    {
     "data": {
      "text/html": [
       "<div>\n",
       "<style scoped>\n",
       "    .dataframe tbody tr th:only-of-type {\n",
       "        vertical-align: middle;\n",
       "    }\n",
       "\n",
       "    .dataframe tbody tr th {\n",
       "        vertical-align: top;\n",
       "    }\n",
       "\n",
       "    .dataframe thead th {\n",
       "        text-align: right;\n",
       "    }\n",
       "</style>\n",
       "<table border=\"1\" class=\"dataframe\">\n",
       "  <thead>\n",
       "    <tr style=\"text-align: right;\">\n",
       "      <th></th>\n",
       "      <th>quantity</th>\n",
       "    </tr>\n",
       "  </thead>\n",
       "  <tbody>\n",
       "    <tr>\n",
       "      <th>enough</th>\n",
       "      <td>33186</td>\n",
       "    </tr>\n",
       "    <tr>\n",
       "      <th>insufficient</th>\n",
       "      <td>15129</td>\n",
       "    </tr>\n",
       "    <tr>\n",
       "      <th>dry</th>\n",
       "      <td>6246</td>\n",
       "    </tr>\n",
       "    <tr>\n",
       "      <th>seasonal</th>\n",
       "      <td>4050</td>\n",
       "    </tr>\n",
       "    <tr>\n",
       "      <th>unknown</th>\n",
       "      <td>789</td>\n",
       "    </tr>\n",
       "  </tbody>\n",
       "</table>\n",
       "</div>"
      ],
      "text/plain": [
       "              quantity\n",
       "enough           33186\n",
       "insufficient     15129\n",
       "dry               6246\n",
       "seasonal          4050\n",
       "unknown            789"
      ]
     },
     "metadata": {},
     "output_type": "display_data"
    }
   ],
   "source": [
    "q1 = xy_train['quantity_group'].value_counts().to_frame()\n",
    "q2 = xy_train['quantity'].value_counts().to_frame()\n",
    "display(q1)\n",
    "display(q2)"
   ]
  },
  {
   "cell_type": "markdown",
   "metadata": {},
   "source": [
    "#### source vs source_type"
   ]
  },
  {
   "cell_type": "code",
   "execution_count": 15,
   "metadata": {},
   "outputs": [
    {
     "data": {
      "text/html": [
       "<div>\n",
       "<style scoped>\n",
       "    .dataframe tbody tr th:only-of-type {\n",
       "        vertical-align: middle;\n",
       "    }\n",
       "\n",
       "    .dataframe tbody tr th {\n",
       "        vertical-align: top;\n",
       "    }\n",
       "\n",
       "    .dataframe thead th {\n",
       "        text-align: right;\n",
       "    }\n",
       "</style>\n",
       "<table border=\"1\" class=\"dataframe\">\n",
       "  <thead>\n",
       "    <tr style=\"text-align: right;\">\n",
       "      <th></th>\n",
       "      <th>source</th>\n",
       "    </tr>\n",
       "  </thead>\n",
       "  <tbody>\n",
       "    <tr>\n",
       "      <th>spring</th>\n",
       "      <td>17021</td>\n",
       "    </tr>\n",
       "    <tr>\n",
       "      <th>shallow well</th>\n",
       "      <td>16824</td>\n",
       "    </tr>\n",
       "    <tr>\n",
       "      <th>machine dbh</th>\n",
       "      <td>11075</td>\n",
       "    </tr>\n",
       "    <tr>\n",
       "      <th>river</th>\n",
       "      <td>9612</td>\n",
       "    </tr>\n",
       "    <tr>\n",
       "      <th>rainwater harvesting</th>\n",
       "      <td>2295</td>\n",
       "    </tr>\n",
       "    <tr>\n",
       "      <th>hand dtw</th>\n",
       "      <td>874</td>\n",
       "    </tr>\n",
       "    <tr>\n",
       "      <th>lake</th>\n",
       "      <td>765</td>\n",
       "    </tr>\n",
       "    <tr>\n",
       "      <th>dam</th>\n",
       "      <td>656</td>\n",
       "    </tr>\n",
       "    <tr>\n",
       "      <th>other</th>\n",
       "      <td>212</td>\n",
       "    </tr>\n",
       "    <tr>\n",
       "      <th>unknown</th>\n",
       "      <td>66</td>\n",
       "    </tr>\n",
       "  </tbody>\n",
       "</table>\n",
       "</div>"
      ],
      "text/plain": [
       "                      source\n",
       "spring                 17021\n",
       "shallow well           16824\n",
       "machine dbh            11075\n",
       "river                   9612\n",
       "rainwater harvesting    2295\n",
       "hand dtw                 874\n",
       "lake                     765\n",
       "dam                      656\n",
       "other                    212\n",
       "unknown                   66"
      ]
     },
     "metadata": {},
     "output_type": "display_data"
    },
    {
     "data": {
      "text/html": [
       "<div>\n",
       "<style scoped>\n",
       "    .dataframe tbody tr th:only-of-type {\n",
       "        vertical-align: middle;\n",
       "    }\n",
       "\n",
       "    .dataframe tbody tr th {\n",
       "        vertical-align: top;\n",
       "    }\n",
       "\n",
       "    .dataframe thead th {\n",
       "        text-align: right;\n",
       "    }\n",
       "</style>\n",
       "<table border=\"1\" class=\"dataframe\">\n",
       "  <thead>\n",
       "    <tr style=\"text-align: right;\">\n",
       "      <th></th>\n",
       "      <th>source_type</th>\n",
       "    </tr>\n",
       "  </thead>\n",
       "  <tbody>\n",
       "    <tr>\n",
       "      <th>spring</th>\n",
       "      <td>17021</td>\n",
       "    </tr>\n",
       "    <tr>\n",
       "      <th>shallow well</th>\n",
       "      <td>16824</td>\n",
       "    </tr>\n",
       "    <tr>\n",
       "      <th>borehole</th>\n",
       "      <td>11949</td>\n",
       "    </tr>\n",
       "    <tr>\n",
       "      <th>river/lake</th>\n",
       "      <td>10377</td>\n",
       "    </tr>\n",
       "    <tr>\n",
       "      <th>rainwater harvesting</th>\n",
       "      <td>2295</td>\n",
       "    </tr>\n",
       "    <tr>\n",
       "      <th>dam</th>\n",
       "      <td>656</td>\n",
       "    </tr>\n",
       "    <tr>\n",
       "      <th>other</th>\n",
       "      <td>278</td>\n",
       "    </tr>\n",
       "  </tbody>\n",
       "</table>\n",
       "</div>"
      ],
      "text/plain": [
       "                      source_type\n",
       "spring                      17021\n",
       "shallow well                16824\n",
       "borehole                    11949\n",
       "river/lake                  10377\n",
       "rainwater harvesting         2295\n",
       "dam                           656\n",
       "other                         278"
      ]
     },
     "metadata": {},
     "output_type": "display_data"
    }
   ],
   "source": [
    "s1 = xy_train['source'].value_counts().to_frame()\n",
    "s2 = xy_train['source_type'].value_counts().to_frame()\n",
    "display(s1)\n",
    "display(s2)"
   ]
  },
  {
   "cell_type": "markdown",
   "metadata": {},
   "source": [
    "#### payment_type vs payment"
   ]
  },
  {
   "cell_type": "code",
   "execution_count": 16,
   "metadata": {},
   "outputs": [
    {
     "data": {
      "text/html": [
       "<div>\n",
       "<style scoped>\n",
       "    .dataframe tbody tr th:only-of-type {\n",
       "        vertical-align: middle;\n",
       "    }\n",
       "\n",
       "    .dataframe tbody tr th {\n",
       "        vertical-align: top;\n",
       "    }\n",
       "\n",
       "    .dataframe thead th {\n",
       "        text-align: right;\n",
       "    }\n",
       "</style>\n",
       "<table border=\"1\" class=\"dataframe\">\n",
       "  <thead>\n",
       "    <tr style=\"text-align: right;\">\n",
       "      <th></th>\n",
       "      <th>payment_type</th>\n",
       "    </tr>\n",
       "  </thead>\n",
       "  <tbody>\n",
       "    <tr>\n",
       "      <th>never pay</th>\n",
       "      <td>25348</td>\n",
       "    </tr>\n",
       "    <tr>\n",
       "      <th>per bucket</th>\n",
       "      <td>8985</td>\n",
       "    </tr>\n",
       "    <tr>\n",
       "      <th>monthly</th>\n",
       "      <td>8300</td>\n",
       "    </tr>\n",
       "    <tr>\n",
       "      <th>unknown</th>\n",
       "      <td>8157</td>\n",
       "    </tr>\n",
       "    <tr>\n",
       "      <th>on failure</th>\n",
       "      <td>3914</td>\n",
       "    </tr>\n",
       "    <tr>\n",
       "      <th>annually</th>\n",
       "      <td>3642</td>\n",
       "    </tr>\n",
       "    <tr>\n",
       "      <th>other</th>\n",
       "      <td>1054</td>\n",
       "    </tr>\n",
       "  </tbody>\n",
       "</table>\n",
       "</div>"
      ],
      "text/plain": [
       "            payment_type\n",
       "never pay          25348\n",
       "per bucket          8985\n",
       "monthly             8300\n",
       "unknown             8157\n",
       "on failure          3914\n",
       "annually            3642\n",
       "other               1054"
      ]
     },
     "metadata": {},
     "output_type": "display_data"
    },
    {
     "data": {
      "text/html": [
       "<div>\n",
       "<style scoped>\n",
       "    .dataframe tbody tr th:only-of-type {\n",
       "        vertical-align: middle;\n",
       "    }\n",
       "\n",
       "    .dataframe tbody tr th {\n",
       "        vertical-align: top;\n",
       "    }\n",
       "\n",
       "    .dataframe thead th {\n",
       "        text-align: right;\n",
       "    }\n",
       "</style>\n",
       "<table border=\"1\" class=\"dataframe\">\n",
       "  <thead>\n",
       "    <tr style=\"text-align: right;\">\n",
       "      <th></th>\n",
       "      <th>payment</th>\n",
       "    </tr>\n",
       "  </thead>\n",
       "  <tbody>\n",
       "    <tr>\n",
       "      <th>never pay</th>\n",
       "      <td>25348</td>\n",
       "    </tr>\n",
       "    <tr>\n",
       "      <th>pay per bucket</th>\n",
       "      <td>8985</td>\n",
       "    </tr>\n",
       "    <tr>\n",
       "      <th>pay monthly</th>\n",
       "      <td>8300</td>\n",
       "    </tr>\n",
       "    <tr>\n",
       "      <th>unknown</th>\n",
       "      <td>8157</td>\n",
       "    </tr>\n",
       "    <tr>\n",
       "      <th>pay when scheme fails</th>\n",
       "      <td>3914</td>\n",
       "    </tr>\n",
       "    <tr>\n",
       "      <th>pay annually</th>\n",
       "      <td>3642</td>\n",
       "    </tr>\n",
       "    <tr>\n",
       "      <th>other</th>\n",
       "      <td>1054</td>\n",
       "    </tr>\n",
       "  </tbody>\n",
       "</table>\n",
       "</div>"
      ],
      "text/plain": [
       "                       payment\n",
       "never pay                25348\n",
       "pay per bucket            8985\n",
       "pay monthly               8300\n",
       "unknown                   8157\n",
       "pay when scheme fails     3914\n",
       "pay annually              3642\n",
       "other                     1054"
      ]
     },
     "metadata": {},
     "output_type": "display_data"
    }
   ],
   "source": [
    "p1 = xy_train['payment_type'].value_counts().to_frame()\n",
    "p2 = xy_train['payment'].value_counts().to_frame()\n",
    "display(p1)\n",
    "display(p2)"
   ]
  },
  {
   "cell_type": "markdown",
   "metadata": {},
   "source": [
    "#### waterpoint_type_group vs waterpoint_type"
   ]
  },
  {
   "cell_type": "code",
   "execution_count": 17,
   "metadata": {},
   "outputs": [
    {
     "data": {
      "text/html": [
       "<div>\n",
       "<style scoped>\n",
       "    .dataframe tbody tr th:only-of-type {\n",
       "        vertical-align: middle;\n",
       "    }\n",
       "\n",
       "    .dataframe tbody tr th {\n",
       "        vertical-align: top;\n",
       "    }\n",
       "\n",
       "    .dataframe thead th {\n",
       "        text-align: right;\n",
       "    }\n",
       "</style>\n",
       "<table border=\"1\" class=\"dataframe\">\n",
       "  <thead>\n",
       "    <tr style=\"text-align: right;\">\n",
       "      <th></th>\n",
       "      <th>waterpoint_type_group</th>\n",
       "    </tr>\n",
       "  </thead>\n",
       "  <tbody>\n",
       "    <tr>\n",
       "      <th>communal standpipe</th>\n",
       "      <td>34625</td>\n",
       "    </tr>\n",
       "    <tr>\n",
       "      <th>hand pump</th>\n",
       "      <td>17488</td>\n",
       "    </tr>\n",
       "    <tr>\n",
       "      <th>other</th>\n",
       "      <td>6380</td>\n",
       "    </tr>\n",
       "    <tr>\n",
       "      <th>improved spring</th>\n",
       "      <td>784</td>\n",
       "    </tr>\n",
       "    <tr>\n",
       "      <th>cattle trough</th>\n",
       "      <td>116</td>\n",
       "    </tr>\n",
       "    <tr>\n",
       "      <th>dam</th>\n",
       "      <td>7</td>\n",
       "    </tr>\n",
       "  </tbody>\n",
       "</table>\n",
       "</div>"
      ],
      "text/plain": [
       "                    waterpoint_type_group\n",
       "communal standpipe                  34625\n",
       "hand pump                           17488\n",
       "other                                6380\n",
       "improved spring                       784\n",
       "cattle trough                         116\n",
       "dam                                     7"
      ]
     },
     "metadata": {},
     "output_type": "display_data"
    },
    {
     "data": {
      "text/html": [
       "<div>\n",
       "<style scoped>\n",
       "    .dataframe tbody tr th:only-of-type {\n",
       "        vertical-align: middle;\n",
       "    }\n",
       "\n",
       "    .dataframe tbody tr th {\n",
       "        vertical-align: top;\n",
       "    }\n",
       "\n",
       "    .dataframe thead th {\n",
       "        text-align: right;\n",
       "    }\n",
       "</style>\n",
       "<table border=\"1\" class=\"dataframe\">\n",
       "  <thead>\n",
       "    <tr style=\"text-align: right;\">\n",
       "      <th></th>\n",
       "      <th>waterpoint_type</th>\n",
       "    </tr>\n",
       "  </thead>\n",
       "  <tbody>\n",
       "    <tr>\n",
       "      <th>communal standpipe</th>\n",
       "      <td>28522</td>\n",
       "    </tr>\n",
       "    <tr>\n",
       "      <th>hand pump</th>\n",
       "      <td>17488</td>\n",
       "    </tr>\n",
       "    <tr>\n",
       "      <th>other</th>\n",
       "      <td>6380</td>\n",
       "    </tr>\n",
       "    <tr>\n",
       "      <th>communal standpipe multiple</th>\n",
       "      <td>6103</td>\n",
       "    </tr>\n",
       "    <tr>\n",
       "      <th>improved spring</th>\n",
       "      <td>784</td>\n",
       "    </tr>\n",
       "    <tr>\n",
       "      <th>cattle trough</th>\n",
       "      <td>116</td>\n",
       "    </tr>\n",
       "    <tr>\n",
       "      <th>dam</th>\n",
       "      <td>7</td>\n",
       "    </tr>\n",
       "  </tbody>\n",
       "</table>\n",
       "</div>"
      ],
      "text/plain": [
       "                             waterpoint_type\n",
       "communal standpipe                     28522\n",
       "hand pump                              17488\n",
       "other                                   6380\n",
       "communal standpipe multiple             6103\n",
       "improved spring                          784\n",
       "cattle trough                            116\n",
       "dam                                        7"
      ]
     },
     "metadata": {},
     "output_type": "display_data"
    }
   ],
   "source": [
    "w1 = xy_train['waterpoint_type_group'].value_counts().to_frame()\n",
    "w2 = xy_train['waterpoint_type'].value_counts().to_frame()\n",
    "display(w1)\n",
    "display(w2)"
   ]
  },
  {
   "cell_type": "markdown",
   "metadata": {},
   "source": [
    "#### extraction_type_group vs extraction_type vs extraction_type_class"
   ]
  },
  {
   "cell_type": "code",
   "execution_count": 18,
   "metadata": {
    "scrolled": true
   },
   "outputs": [
    {
     "data": {
      "text/html": [
       "<div>\n",
       "<style scoped>\n",
       "    .dataframe tbody tr th:only-of-type {\n",
       "        vertical-align: middle;\n",
       "    }\n",
       "\n",
       "    .dataframe tbody tr th {\n",
       "        vertical-align: top;\n",
       "    }\n",
       "\n",
       "    .dataframe thead th {\n",
       "        text-align: right;\n",
       "    }\n",
       "</style>\n",
       "<table border=\"1\" class=\"dataframe\">\n",
       "  <thead>\n",
       "    <tr style=\"text-align: right;\">\n",
       "      <th></th>\n",
       "      <th>extraction_type_group</th>\n",
       "    </tr>\n",
       "  </thead>\n",
       "  <tbody>\n",
       "    <tr>\n",
       "      <th>gravity</th>\n",
       "      <td>26780</td>\n",
       "    </tr>\n",
       "    <tr>\n",
       "      <th>nira/tanira</th>\n",
       "      <td>8154</td>\n",
       "    </tr>\n",
       "    <tr>\n",
       "      <th>other</th>\n",
       "      <td>6430</td>\n",
       "    </tr>\n",
       "    <tr>\n",
       "      <th>submersible</th>\n",
       "      <td>6179</td>\n",
       "    </tr>\n",
       "    <tr>\n",
       "      <th>swn 80</th>\n",
       "      <td>3670</td>\n",
       "    </tr>\n",
       "    <tr>\n",
       "      <th>mono</th>\n",
       "      <td>2865</td>\n",
       "    </tr>\n",
       "    <tr>\n",
       "      <th>india mark ii</th>\n",
       "      <td>2400</td>\n",
       "    </tr>\n",
       "    <tr>\n",
       "      <th>afridev</th>\n",
       "      <td>1770</td>\n",
       "    </tr>\n",
       "    <tr>\n",
       "      <th>rope pump</th>\n",
       "      <td>451</td>\n",
       "    </tr>\n",
       "    <tr>\n",
       "      <th>other handpump</th>\n",
       "      <td>364</td>\n",
       "    </tr>\n",
       "    <tr>\n",
       "      <th>other motorpump</th>\n",
       "      <td>122</td>\n",
       "    </tr>\n",
       "    <tr>\n",
       "      <th>wind-powered</th>\n",
       "      <td>117</td>\n",
       "    </tr>\n",
       "    <tr>\n",
       "      <th>india mark iii</th>\n",
       "      <td>98</td>\n",
       "    </tr>\n",
       "  </tbody>\n",
       "</table>\n",
       "</div>"
      ],
      "text/plain": [
       "                 extraction_type_group\n",
       "gravity                          26780\n",
       "nira/tanira                       8154\n",
       "other                             6430\n",
       "submersible                       6179\n",
       "swn 80                            3670\n",
       "mono                              2865\n",
       "india mark ii                     2400\n",
       "afridev                           1770\n",
       "rope pump                          451\n",
       "other handpump                     364\n",
       "other motorpump                    122\n",
       "wind-powered                       117\n",
       "india mark iii                      98"
      ]
     },
     "metadata": {},
     "output_type": "display_data"
    },
    {
     "data": {
      "text/html": [
       "<div>\n",
       "<style scoped>\n",
       "    .dataframe tbody tr th:only-of-type {\n",
       "        vertical-align: middle;\n",
       "    }\n",
       "\n",
       "    .dataframe tbody tr th {\n",
       "        vertical-align: top;\n",
       "    }\n",
       "\n",
       "    .dataframe thead th {\n",
       "        text-align: right;\n",
       "    }\n",
       "</style>\n",
       "<table border=\"1\" class=\"dataframe\">\n",
       "  <thead>\n",
       "    <tr style=\"text-align: right;\">\n",
       "      <th></th>\n",
       "      <th>extraction_type</th>\n",
       "    </tr>\n",
       "  </thead>\n",
       "  <tbody>\n",
       "    <tr>\n",
       "      <th>gravity</th>\n",
       "      <td>26780</td>\n",
       "    </tr>\n",
       "    <tr>\n",
       "      <th>nira/tanira</th>\n",
       "      <td>8154</td>\n",
       "    </tr>\n",
       "    <tr>\n",
       "      <th>other</th>\n",
       "      <td>6430</td>\n",
       "    </tr>\n",
       "    <tr>\n",
       "      <th>submersible</th>\n",
       "      <td>4764</td>\n",
       "    </tr>\n",
       "    <tr>\n",
       "      <th>swn 80</th>\n",
       "      <td>3670</td>\n",
       "    </tr>\n",
       "    <tr>\n",
       "      <th>mono</th>\n",
       "      <td>2865</td>\n",
       "    </tr>\n",
       "    <tr>\n",
       "      <th>india mark ii</th>\n",
       "      <td>2400</td>\n",
       "    </tr>\n",
       "    <tr>\n",
       "      <th>afridev</th>\n",
       "      <td>1770</td>\n",
       "    </tr>\n",
       "    <tr>\n",
       "      <th>ksb</th>\n",
       "      <td>1415</td>\n",
       "    </tr>\n",
       "    <tr>\n",
       "      <th>other - rope pump</th>\n",
       "      <td>451</td>\n",
       "    </tr>\n",
       "    <tr>\n",
       "      <th>other - swn 81</th>\n",
       "      <td>229</td>\n",
       "    </tr>\n",
       "    <tr>\n",
       "      <th>windmill</th>\n",
       "      <td>117</td>\n",
       "    </tr>\n",
       "    <tr>\n",
       "      <th>india mark iii</th>\n",
       "      <td>98</td>\n",
       "    </tr>\n",
       "    <tr>\n",
       "      <th>cemo</th>\n",
       "      <td>90</td>\n",
       "    </tr>\n",
       "    <tr>\n",
       "      <th>other - play pump</th>\n",
       "      <td>85</td>\n",
       "    </tr>\n",
       "    <tr>\n",
       "      <th>walimi</th>\n",
       "      <td>48</td>\n",
       "    </tr>\n",
       "    <tr>\n",
       "      <th>climax</th>\n",
       "      <td>32</td>\n",
       "    </tr>\n",
       "    <tr>\n",
       "      <th>other - mkulima/shinyanga</th>\n",
       "      <td>2</td>\n",
       "    </tr>\n",
       "  </tbody>\n",
       "</table>\n",
       "</div>"
      ],
      "text/plain": [
       "                           extraction_type\n",
       "gravity                              26780\n",
       "nira/tanira                           8154\n",
       "other                                 6430\n",
       "submersible                           4764\n",
       "swn 80                                3670\n",
       "mono                                  2865\n",
       "india mark ii                         2400\n",
       "afridev                               1770\n",
       "ksb                                   1415\n",
       "other - rope pump                      451\n",
       "other - swn 81                         229\n",
       "windmill                               117\n",
       "india mark iii                          98\n",
       "cemo                                    90\n",
       "other - play pump                       85\n",
       "walimi                                  48\n",
       "climax                                  32\n",
       "other - mkulima/shinyanga                2"
      ]
     },
     "metadata": {},
     "output_type": "display_data"
    },
    {
     "data": {
      "text/html": [
       "<div>\n",
       "<style scoped>\n",
       "    .dataframe tbody tr th:only-of-type {\n",
       "        vertical-align: middle;\n",
       "    }\n",
       "\n",
       "    .dataframe tbody tr th {\n",
       "        vertical-align: top;\n",
       "    }\n",
       "\n",
       "    .dataframe thead th {\n",
       "        text-align: right;\n",
       "    }\n",
       "</style>\n",
       "<table border=\"1\" class=\"dataframe\">\n",
       "  <thead>\n",
       "    <tr style=\"text-align: right;\">\n",
       "      <th></th>\n",
       "      <th>extraction_type_class</th>\n",
       "    </tr>\n",
       "  </thead>\n",
       "  <tbody>\n",
       "    <tr>\n",
       "      <th>gravity</th>\n",
       "      <td>26780</td>\n",
       "    </tr>\n",
       "    <tr>\n",
       "      <th>handpump</th>\n",
       "      <td>16456</td>\n",
       "    </tr>\n",
       "    <tr>\n",
       "      <th>other</th>\n",
       "      <td>6430</td>\n",
       "    </tr>\n",
       "    <tr>\n",
       "      <th>submersible</th>\n",
       "      <td>6179</td>\n",
       "    </tr>\n",
       "    <tr>\n",
       "      <th>motorpump</th>\n",
       "      <td>2987</td>\n",
       "    </tr>\n",
       "    <tr>\n",
       "      <th>rope pump</th>\n",
       "      <td>451</td>\n",
       "    </tr>\n",
       "    <tr>\n",
       "      <th>wind-powered</th>\n",
       "      <td>117</td>\n",
       "    </tr>\n",
       "  </tbody>\n",
       "</table>\n",
       "</div>"
      ],
      "text/plain": [
       "              extraction_type_class\n",
       "gravity                       26780\n",
       "handpump                      16456\n",
       "other                          6430\n",
       "submersible                    6179\n",
       "motorpump                      2987\n",
       "rope pump                       451\n",
       "wind-powered                    117"
      ]
     },
     "metadata": {},
     "output_type": "display_data"
    }
   ],
   "source": [
    "e1 = xy_train['extraction_type_group'].value_counts().to_frame()\n",
    "e2 = xy_train['extraction_type'].value_counts().to_frame()\n",
    "e3 = xy_train['extraction_type_class'].value_counts().to_frame()\n",
    "display(e1)\n",
    "display(e2)\n",
    "display(e3)"
   ]
  },
  {
   "cell_type": "markdown",
   "metadata": {},
   "source": [
    "A lot of the categorical columns we compared above have a lot of the same values in both tables so we will be dropping one of them. "
   ]
  },
  {
   "cell_type": "markdown",
   "metadata": {},
   "source": [
    "### Check other columns with significant amount of zeros"
   ]
  },
  {
   "cell_type": "markdown",
   "metadata": {},
   "source": [
    "#### amount_tsh and num_private"
   ]
  },
  {
   "cell_type": "code",
   "execution_count": 19,
   "metadata": {},
   "outputs": [
    {
     "name": "stdout",
     "output_type": "stream",
     "text": [
      "Total amount_tsh zeros: 41639\n",
      "Total num_private zeros: 58643\n"
     ]
    }
   ],
   "source": [
    "print('Total amount_tsh zeros: {}'.format(xy_train['amount_tsh'].isin([0]).sum()))\n",
    "print('Total num_private zeros: {}'.format(xy_train['num_private'].isin([0]).sum()))"
   ]
  },
  {
   "cell_type": "code",
   "execution_count": 20,
   "metadata": {},
   "outputs": [],
   "source": [
    "xy_train.drop(['id','amount_tsh', 'num_private', 'region_code', 'quantity_group', \n",
    "              'source_type', 'payment_type', 'waterpoint_type_group', \n",
    "              'extraction_type_group', 'extraction_type_class','recorded_by'], \n",
    "               axis = 'columns', inplace=True)"
   ]
  },
  {
   "cell_type": "markdown",
   "metadata": {},
   "source": [
    "#### Below are the reasons for removal based on the above analysis:\n",
    "\n",
    "**id** is not a useful predictor\n",
    "\n",
    "**amount_tsh** is ~70% zeros\n",
    "\n",
    "**num_private** is ~99% zeros\n",
    "\n",
    "**region_code** is the same as region but we will keep region\n",
    "\n",
    "**quantity_group** has the same values and value counts as quantity\n",
    "\n",
    "**source_type** has roughly the same categories as source, but source has the categories broken out better (river and lake are seperated in source)\n",
    "\n",
    "**payment_type** has the same values and value counts as payment\n",
    "\n",
    "**waterpoint_type_group** has the same values and value counts as waterpoint_type\n",
    "\n",
    "**extraction_type_group** has roughly the same categories as extraction_type, but extraction_type has the categories broken out better\n",
    "\n",
    "**extraction_type_class** has even even less catagories than extraction_type_group\n",
    "\n",
    "**recorded_by** has just one value, \"GeoData Consultants Ltd\", so it would not be useful in EDA or prediction."
   ]
  },
  {
   "cell_type": "markdown",
   "metadata": {},
   "source": [
    "# Feature Engineering"
   ]
  },
  {
   "cell_type": "markdown",
   "metadata": {},
   "source": [
    "#### Create Month and Year columns"
   ]
  },
  {
   "cell_type": "code",
   "execution_count": 21,
   "metadata": {},
   "outputs": [],
   "source": [
    "#Convert the date_recorded to datetime column\n",
    "xy_train['date_recorded'] = pd.to_datetime(xy_train['date_recorded'])"
   ]
  },
  {
   "cell_type": "code",
   "execution_count": 22,
   "metadata": {},
   "outputs": [],
   "source": [
    "#Create the month and month number column from the date column\n",
    "xy_train['month_recorded'] = xy_train['date_recorded'].dt.month_name()\n",
    "xy_train['month_num_recorded'] = xy_train['date_recorded'].dt.month"
   ]
  },
  {
   "cell_type": "code",
   "execution_count": 23,
   "metadata": {},
   "outputs": [],
   "source": [
    "#Create the year recorded from date column\n",
    "xy_train['year_recorded'] = xy_train['date_recorded'].dt.year"
   ]
  },
  {
   "cell_type": "markdown",
   "metadata": {},
   "source": [
    "#### Create Age column"
   ]
  },
  {
   "cell_type": "code",
   "execution_count": 33,
   "metadata": {},
   "outputs": [],
   "source": [
    "xy_train['age'] = xy_train['year_recorded'].max() - xy_train['construction_year']"
   ]
  },
  {
   "cell_type": "markdown",
   "metadata": {},
   "source": [
    "#### Create a binned age column to be treated as a categorical "
   ]
  },
  {
   "cell_type": "code",
   "execution_count": 44,
   "metadata": {},
   "outputs": [],
   "source": [
    "def bin_age(age):\n",
    "    '''Create bins using if else'''\n",
    "    if age > 50:\n",
    "        return \"Unknown\"\n",
    "    elif age >= 0 and age <10:\n",
    "        return \"<10 Years\"\n",
    "    elif age >= 10 and age <20:\n",
    "        return \"10-20 Years\"\n",
    "    elif age >= 20 and age <30:\n",
    "        return \"20-30 Years\"\n",
    "    elif age >= 30 and age <40:\n",
    "        return \"30-40 Years\"\n",
    "    elif age >= 40 and age <50:\n",
    "        return \"40-50 Years\"\n",
    "    elif age >= 50 and age <60:\n",
    "        return \"50-60 Years\"\n",
    "    else:\n",
    "        return \"60+ years\"\n",
    "\n",
    "#Create the column using the function\n",
    "xy_train['bin_age'] = xy_train['age'].apply(bin_age)"
   ]
  },
  {
   "cell_type": "markdown",
   "metadata": {},
   "source": [
    "#### Create a binned Installer column"
   ]
  },
  {
   "cell_type": "code",
   "execution_count": 77,
   "metadata": {},
   "outputs": [],
   "source": [
    "#This is created using groupby so we can pass into the function we create\n",
    "xy_train['installer_count'] = xy_train.groupby('installer')['year_recorded'].transform(lambda grp: len(grp))"
   ]
  },
  {
   "cell_type": "code",
   "execution_count": 81,
   "metadata": {},
   "outputs": [],
   "source": [
    "def bin_installer(installer_count):\n",
    "    '''Create bins using if else'''\n",
    "    if installer_count > 2000:\n",
    "        return \">2000\"\n",
    "    elif installer_count >= 500 and installer_count <2000:\n",
    "        return \"500-2000\"\n",
    "    elif installer_count >= 100 and installer_count <500:\n",
    "        return \"100-500\"\n",
    "    else:\n",
    "        return \"<100\"\n",
    "    \n",
    "#Create the column\n",
    "xy_train['bin_installer_count'] = xy_train['installer_count'].apply(bin_installer)"
   ]
  },
  {
   "cell_type": "markdown",
   "metadata": {},
   "source": [
    "# Exploratory Data Analysis"
   ]
  },
  {
   "cell_type": "markdown",
   "metadata": {},
   "source": [
    "#### What are the classes for the outcome ?"
   ]
  },
  {
   "cell_type": "code",
   "execution_count": 61,
   "metadata": {
    "scrolled": false
   },
   "outputs": [
    {
     "data": {
      "image/png": "[encoded data removed]",
      "text/plain": [
       "<Figure size 576x576 with 1 Axes>"
      ]
     },
     "metadata": {
      "needs_background": "light"
     },
     "output_type": "display_data"
    }
   ],
   "source": [
    "fig2, ax = plt.subplots(figsize = (8,8))\n",
    "\n",
    "#Create x and y\n",
    "x = y_train['status_group'].value_counts().index\n",
    "y = y_train['status_group'].value_counts().values\n",
    "\n",
    "#Plot the barchart\n",
    "ax = sns.barplot(x,y,palette='deep')\n",
    "\n",
    "#ax.set_xlabel(\"Status Group\")\n",
    "ax.set_title('Status Groups')\n",
    "\n",
    "plt.ticklabel_format(style = 'plain', axis = 'y')\n",
    "\n",
    "#This loop allows for lables on the bars\n",
    "for p in ax.patches:\n",
    " # get the height of each bar\n",
    " height = p.get_height()\n",
    " # adding text to each bar\n",
    " ax.text(x = p.get_x()+(p.get_width()/2), # x-coordinate position of data label, padded to be in the middle of the bar\n",
    " y = height+100, # y-coordinate position of data label, padded 100 above bar\n",
    " s = '{:.0f}'.format(height), # data label, formatted to ignore decimals\n",
    " ha = 'center') # sets horizontal alignment (ha) to center\n",
    "    \n",
    "plt.tight_layout()\n",
    "#fig.savefig('images/sales_per_waterfront.png');"
   ]
  },
  {
   "cell_type": "markdown",
   "metadata": {},
   "source": [
    "We have a good mix of functional and non-functional wells in our dataset, but not as many wells that are functional and need repair. Like we mentioned above, we will need to use a sampling strategy when we get to the modeling stage. "
   ]
  },
  {
   "cell_type": "markdown",
   "metadata": {},
   "source": [
    "#### Do certain types of water quality associate with each status group of the well?"
   ]
  },
  {
   "cell_type": "code",
   "execution_count": 171,
   "metadata": {
    "scrolled": false
   },
   "outputs": [
    {
     "data": {
      "image/png": "[encoded data removed]",
      "text/plain": [
       "<Figure size 576x576 with 1 Axes>"
      ]
     },
     "metadata": {
      "needs_background": "light"
     },
     "output_type": "display_data"
    }
   ],
   "source": [
    "fig, ax = plt.subplots(figsize = (8,8))\n",
    "\n",
    "no_good = xy_train[xy_train['quality_group'] != 'good']\n",
    "\n",
    "#Create the plot\n",
    "ax = sns.countplot(x=\"quality_group\", hue=\"status_group\", data=xy_train)\n",
    "\n",
    "ax.set_xlabel(\"Water Quality\")\n",
    "plt.ticklabel_format(style = 'plain', axis = 'y')\n",
    "ax.set_ylabel(\"Count\");\n",
    "ax.set_title(\"Water Quality\")\n",
    "\n",
    "plt.tight_layout()\n",
    "#fig.savefig('images/sales_per_waterfront.png');"
   ]
  },
  {
   "cell_type": "markdown",
   "metadata": {},
   "source": [
    "The above chart shows that most wells are good quality, but we dont think water quality can tell us much about which wells are functional or not. Each water quality type has a good amount of functional and non-functional."
   ]
  },
  {
   "cell_type": "markdown",
   "metadata": {},
   "source": [
    "#### Who were the top installers of water wells?"
   ]
  },
  {
   "cell_type": "code",
   "execution_count": 62,
   "metadata": {
    "scrolled": false
   },
   "outputs": [
    {
     "data": {
      "image/png": "[encoded data removed]",
      "text/plain": [
       "<Figure size 576x576 with 1 Axes>"
      ]
     },
     "metadata": {
      "needs_background": "light"
     },
     "output_type": "display_data"
    }
   ],
   "source": [
    "fig2, ax = plt.subplots(figsize = (8,8))\n",
    "\n",
    "y = X_train['installer'].value_counts().index[:10]\n",
    "x = X_train['installer'].value_counts().values[:10]\n",
    "\n",
    "#Create chart\n",
    "ax = sns.barplot(x,y,palette='deep', orient='h')\n",
    "\n",
    "ax.set_title('Top 10 Installers')\n",
    "\n",
    "\n",
    "plt.tight_layout()\n",
    "\n",
    "#This loop allows for lables on the bars\n",
    "for p in ax.patches:\n",
    "    height = p.get_height() # height of each horizontal bar is the same\n",
    "    width = p.get_width() # width (average number of passengers)\n",
    " # adding text to each bar\n",
    "    ax.text(x = width+3, # x-coordinate position of data label, padded 3 to right of bar\n",
    "    y = p.get_y()+(height/2), # # y-coordinate position of data label, padded to be in the middle of the bar\n",
    "    s = '{:.0f}'.format(width), # data label, formatted to ignore decimals\n",
    "    va = 'center') # sets vertical alignment (va) to center\n",
    "    \n",
    "    \n",
    "    \n",
    "#fig.savefig('images/sales_per_waterfront.png');"
   ]
  },
  {
   "cell_type": "markdown",
   "metadata": {},
   "source": [
    "DWE looks to have installed most of the wells, followed by the Government and RWE."
   ]
  },
  {
   "cell_type": "markdown",
   "metadata": {},
   "source": [
    "#### Are there certain Tiers of installers that tend to make more functional wells?"
   ]
  },
  {
   "cell_type": "code",
   "execution_count": 88,
   "metadata": {
    "scrolled": false
   },
   "outputs": [
    {
     "data": {
      "image/png": "[encoded data removed]",
      "text/plain": [
       "<Figure size 576x576 with 1 Axes>"
      ]
     },
     "metadata": {
      "needs_background": "light"
     },
     "output_type": "display_data"
    }
   ],
   "source": [
    "fig, ax = plt.subplots(figsize = (8,8))\n",
    "\n",
    "#x_cols is created to order the x axis\n",
    "x_cols = ['>2000', '500-2000', '100-500', '<100']\n",
    "#Create plot\n",
    "ax = sns.countplot(x=\"bin_installer_count\", hue=\"status_group\", data=xy_train, order = x_cols)\n",
    "ax.set_xlabel(\"Installer Group\")\n",
    "plt.ticklabel_format(style = 'plain', axis = 'y')\n",
    "ax.set_ylabel(\"Count\");\n",
    "ax.set_title(\"Intaller Group by Status Group\")\n",
    "\n",
    "plt.tight_layout();\n",
    "\n",
    "#fig.savefig('images/sales_per_waterfront.png');"
   ]
  },
  {
   "cell_type": "markdown",
   "metadata": {},
   "source": [
    "It looks like those installers that have a lot of experience intalling wells(those > 2000 installs) have a good proportion of functional and non-functional wells."
   ]
  },
  {
   "cell_type": "markdown",
   "metadata": {},
   "source": [
    "#### Are there certain waterpoint types that have more functioning wells"
   ]
  },
  {
   "cell_type": "code",
   "execution_count": 162,
   "metadata": {
    "scrolled": true
   },
   "outputs": [
    {
     "data": {
      "image/png": "[encoded data removed]",
      "text/plain": [
       "<Figure size 576x576 with 1 Axes>"
      ]
     },
     "metadata": {
      "needs_background": "light"
     },
     "output_type": "display_data"
    }
   ],
   "source": [
    "fig, ax = plt.subplots(figsize = (8,8))\n",
    "\n",
    "#Create plot\n",
    "ax = sns.countplot(x=\"waterpoint_type\", hue=\"status_group\", data=xy_train)\n",
    "\n",
    "ax.set_xlabel(\"Waterpoint Type\")\n",
    "plt.ticklabel_format(style = 'plain', axis = 'y')\n",
    "ax.set_ylabel(\"Count\")\n",
    "ax.set_title(\"Waterpoint Type by Status Group\")\n",
    "ax.tick_params(axis='x', labelrotation = 90)\n",
    "plt.tight_layout();\n",
    "\n",
    "#fig.savefig('images/sales_per_waterfront.png');"
   ]
  },
  {
   "cell_type": "markdown",
   "metadata": {},
   "source": [
    "The standpipe looks to be the most popular waterpoint type, followed by the handpump. It seems if you were going to recommend a waterpoint type for replacement or for a new install you would recommend wither of the two. "
   ]
  },
  {
   "cell_type": "markdown",
   "metadata": {},
   "source": [
    "#### Does the age of the well help determine if the well is functional or not? Note: we removed those rows that had a construction year of 0 for the following two charts. "
   ]
  },
  {
   "cell_type": "code",
   "execution_count": 164,
   "metadata": {
    "scrolled": true
   },
   "outputs": [
    {
     "data": {
      "image/png": "[encoded data removed]",
      "text/plain": [
       "<Figure size 576x432 with 1 Axes>"
      ]
     },
     "metadata": {
      "needs_background": "light"
     },
     "output_type": "display_data"
    }
   ],
   "source": [
    "plt.figure(figsize=(8,6))\n",
    "\n",
    "#Create a new dataset for the chart\n",
    "data4 = xy_train2[xy_train2['construction_year']!=0]\n",
    "\n",
    "#Create the chart\n",
    "sns.boxplot(x='status_group', y='age', data=data4)\n",
    "\n",
    "plt.title(\"Status Group by Age\");\n",
    "\n",
    "#fig.savefig('images/sales_per_waterfront.png');"
   ]
  },
  {
   "cell_type": "markdown",
   "metadata": {},
   "source": [
    "It looks like the average age of functioning wells is considerable lower than non-functioning wells. "
   ]
  },
  {
   "cell_type": "markdown",
   "metadata": {},
   "source": [
    "All of the status groups seem to be in the same altitude range, so this does not give us much insight into weather or not the altitude is a good indicator if a well is functional."
   ]
  },
  {
   "cell_type": "code",
   "execution_count": 43,
   "metadata": {
    "scrolled": true
   },
   "outputs": [
    {
     "data": {
      "image/png": "[encoded data removed]",
      "text/plain": [
       "<Figure size 576x432 with 1 Axes>"
      ]
     },
     "metadata": {
      "needs_background": "light"
     },
     "output_type": "display_data"
    }
   ],
   "source": [
    "xy_train2['date_recorded'] = pd.to_datetime(xy_train2['date_recorded'])\n",
    "xy_train2['year_recorded'] = xy_train2['date_recorded'].dt.year\n",
    "xy_train2['age'] = xy_train2['year_recorded'].max() - xy_train2['construction_year']\n",
    "\n",
    "\n",
    "data1 = xy_train2[(xy_train2['status_group']=='functional') & (xy_train2['construction_year']!=0)]\n",
    "data2 = xy_train2[(xy_train2['status_group']=='non functional') & (xy_train2['construction_year']!=0)]\n",
    "data3 = xy_train2[(xy_train2['status_group']=='functional needs repair') & (xy_train2['construction_year']!=0)]\n",
    "\n",
    "plt.figure(figsize=(8,6))\n",
    "\n",
    "plt.hist(data1['age'],alpha=0.5, label=\"functional\")\n",
    "plt.hist(data2['age'],alpha=0.5, label=\"non functional\")\n",
    "plt.hist(data3['age'],alpha=0.5, label=\"functional needs repair\")\n",
    "plt.xlabel(\"Age\", size=14)\n",
    "plt.ylabel(\"Count\", size=14)\n",
    "plt.title(\"Status Group by Age\")\n",
    "plt.legend(loc='upper right');"
   ]
  },
  {
   "cell_type": "markdown",
   "metadata": {},
   "source": [
    "Above is another look at the distribution of age of the well by each status group. Most wells that are functional less than 20 years old."
   ]
  },
  {
   "cell_type": "markdown",
   "metadata": {},
   "source": [
    "#### Does the altitude of the well determine if there are more functioning wells. "
   ]
  },
  {
   "cell_type": "code",
   "execution_count": 172,
   "metadata": {
    "scrolled": true
   },
   "outputs": [
    {
     "data": {
      "image/png": "[encoded data removed]",
      "text/plain": [
       "<Figure size 576x432 with 1 Axes>"
      ]
     },
     "metadata": {
      "needs_background": "light"
     },
     "output_type": "display_data"
    }
   ],
   "source": [
    "plt.figure(figsize=(8,6))\n",
    "\n",
    "sns.boxplot(x='status_group', y='gps_height', data=data4)\n",
    "\n",
    "plt.title(\"Altitude of wells\");\n",
    "\n",
    "#fig.savefig('images/sales_per_waterfront.png');"
   ]
  },
  {
   "cell_type": "markdown",
   "metadata": {},
   "source": [
    "All of the status groups seem to be in the same altitude range, so this does not give us much insight into weather or not the altitude is a good indicator if a well is functional."
   ]
  },
  {
   "cell_type": "markdown",
   "metadata": {},
   "source": [
    "#### Where are the functional water wells located?"
   ]
  },
  {
   "cell_type": "code",
   "execution_count": null,
   "metadata": {},
   "outputs": [],
   "source": [
    "functional = xy_train[xy_train['status_group'] == 'functional']\n",
    "\n",
    "#Create the folium map\n",
    "hmap = folium.Map(location=[functional['latitude'].median(), functional['longitude'].median()], zoom_start=6, )\n",
    "folium.TileLayer('stamenterrain').add_to(hmap)\n",
    "\n",
    "#Create locations\n",
    "locations = functional[['latitude', 'longitude']]\n",
    "locationlist = locations.values.tolist()\n",
    "\n",
    "#Create the clusters\n",
    "marker_cluster = MarkerCluster().add_to(hmap)\n",
    "\n",
    "#Add the clusters to the map\n",
    "for point in range(0, len(locationlist)):\n",
    "    folium.Marker(locationlist[point]).add_to(marker_cluster)\n",
    "hmap"
   ]
  },
  {
   "cell_type": "markdown",
   "metadata": {},
   "source": [
    "There seems to be a fairly even distribution of functioning water wells throughout the whole country. "
   ]
  },
  {
   "cell_type": "markdown",
   "metadata": {},
   "source": [
    "#### Where are the non-functional water wells located?"
   ]
  },
  {
   "cell_type": "code",
   "execution_count": null,
   "metadata": {
    "scrolled": true
   },
   "outputs": [],
   "source": [
    "non_functional = xy_train[xy_train['status_group'] == 'non functional']\n",
    "#Create the folium map\n",
    "hmap = folium.Map(location=[non_functional['latitude'].median(), non_functional['longitude'].median()], zoom_start=6 )\n",
    "folium.TileLayer('stamenterrain').add_to(hmap)\n",
    "\n",
    "#Create locations\n",
    "locations = non_functional[['latitude', 'longitude']]\n",
    "locationlist = locations.values.tolist()\n",
    "#Create the clusters\n",
    "marker_cluster = MarkerCluster().add_to(hmap)\n",
    "#Add the clusters to the map\n",
    "for point in range(0, len(locationlist)):\n",
    "    folium.Marker(locationlist[point]).add_to(marker_cluster)\n",
    "hmap"
   ]
  },
  {
   "cell_type": "markdown",
   "metadata": {},
   "source": [
    "There seems to be a fairly even distribution of non-functioning water wells throughout the whole country. "
   ]
  },
  {
   "cell_type": "markdown",
   "metadata": {},
   "source": [
    "#### Where are the functional water wells that need repair located?"
   ]
  },
  {
   "cell_type": "code",
   "execution_count": null,
   "metadata": {},
   "outputs": [],
   "source": [
    "functional_needs_repair = xy_train[xy_train['status_group'] == 'functional needs repair']\n",
    "#Create the folium map\n",
    "hmap = folium.Map(location=[functional_needs_repair['latitude'].median(), functional_needs_repair['longitude'].median()], zoom_start=6, )\n",
    "folium.TileLayer('stamenterrain').add_to(hmap)\n",
    "\n",
    "#Create locations\n",
    "locations = functional_needs_repair[['latitude', 'longitude']]\n",
    "locationlist = locations.values.tolist()\n",
    "#Create the clusters\n",
    "marker_cluster = MarkerCluster().add_to(hmap)\n",
    "#Add the clusters to the map\n",
    "for point in range(0, len(locationlist)):\n",
    "    folium.Marker(locationlist[point]).add_to(marker_cluster);\n",
    "hmap"
   ]
  },
  {
   "cell_type": "markdown",
   "metadata": {},
   "source": [
    "There seems to be a fairly even distribution of functioning water wells that need repair throughout the whole country. "
   ]
  },
  {
   "cell_type": "markdown",
   "metadata": {},
   "source": [
    "# Train test split"
   ]
  },
  {
   "cell_type": "markdown",
   "metadata": {},
   "source": [
    "public_meeting and permit need to be included in the numeric features. They are boolean and need to be converted to ints. They will not work in categorical features as booleans. We convert them in this next cell."
   ]
  },
  {
   "cell_type": "code",
   "execution_count": 45,
   "metadata": {},
   "outputs": [],
   "source": [
    "xy_train['public_meeting'] = (xy_train['public_meeting'] == 'TRUE').astype(int)\n",
    "xy_train['permit'] = (xy_train['permit'] == 'TRUE').astype(int)"
   ]
  },
  {
   "cell_type": "code",
   "execution_count": 46,
   "metadata": {},
   "outputs": [],
   "source": [
    "#for train_test split\n",
    "X = xy_train.drop(columns = 'status_group', axis=1)\n",
    "y = xy_train['status_group']\n",
    "\n",
    "#Since we dont have y_test, we need to create it here doing a split off of the x and y train.\n",
    "X_t, X_v, y_t, y_v = train_test_split(X, y, test_size = .2, random_state=42)"
   ]
  },
  {
   "cell_type": "markdown",
   "metadata": {},
   "source": [
    "# Modeling"
   ]
  },
  {
   "cell_type": "markdown",
   "metadata": {},
   "source": [
    "### Dummy Model"
   ]
  },
  {
   "cell_type": "code",
   "execution_count": 47,
   "metadata": {},
   "outputs": [
    {
     "data": {
      "image/png": "[encoded data removed]",
      "text/plain": [
       "<Figure size 432x288 with 2 Axes>"
      ]
     },
     "metadata": {
      "needs_background": "light"
     },
     "output_type": "display_data"
    }
   ],
   "source": [
    "mpl.style.use('seaborn-pastel')\n",
    "plot_confusion_matrix(DummyClassifier(strategy=\"most_frequent\").fit(X_t, y_t), X_v, y_v, xticks_rotation='vertical', normalize = 'all');"
   ]
  },
  {
   "cell_type": "markdown",
   "metadata": {},
   "source": [
    "This dummy model is set up to see how well we would do if we just guessed the most common outcome (functional) everytime. We coverted the numbers to percentages in the consfusion matrix so you can see by the top left box that we would only be correct 54% of the time if we did this approach, which is only slightly better than randomly guessing"
   ]
  },
  {
   "cell_type": "markdown",
   "metadata": {},
   "source": [
    "### Baseline Models with no hyperparameters"
   ]
  },
  {
   "cell_type": "markdown",
   "metadata": {},
   "source": [
    "Create numerical columns to pass into numerical pipelines. There are two cells, one for the training data and one for the validation data"
   ]
  },
  {
   "cell_type": "code",
   "execution_count": 48,
   "metadata": {},
   "outputs": [],
   "source": [
    "#Isolate numerical columns for train data\n",
    "numericals = X_t.select_dtypes(include=['int64', 'float64'])\n",
    "\n",
    "#convert all numericals to float using loop\n",
    "X_t_nums = numericals\n",
    "\n",
    "for col in X_t_nums:\n",
    "    X_t_nums[col] = X_t_nums[col].astype('float64')"
   ]
  },
  {
   "cell_type": "code",
   "execution_count": 49,
   "metadata": {},
   "outputs": [],
   "source": [
    "#Isolate numerical columns for validation data\n",
    "numericals = X_v.select_dtypes(include=['int64', 'float64'])\n",
    "\n",
    "#convert all numericals to float using loop\n",
    "X_v_nums = numericals\n",
    "\n",
    "for col in X_v_nums:\n",
    "    X_v_nums[col] = X_v_nums[col].astype('float64')"
   ]
  },
  {
   "cell_type": "markdown",
   "metadata": {},
   "source": [
    "Create  categorical columns to pass into  categorical pipeline. There are two cells, one for the training data and one for the validation data"
   ]
  },
  {
   "cell_type": "code",
   "execution_count": 50,
   "metadata": {},
   "outputs": [],
   "source": [
    "#Isolate categorical columns for training data\n",
    "categoricals = X_t.select_dtypes(include= 'object')\n",
    "\n",
    "#Further isolate specific columns to be used\n",
    "X_t_cat = categoricals[['region','management','payment','water_quality', 'quality_group', 'quantity', 'source', 'source_class', 'waterpoint_type', 'bin_age']]\n",
    "\n",
    "#convert all categoricals to string using loop\n",
    "for col in X_t_cat:\n",
    "    X_t_cat[col] = X_t_cat[col].astype('str')"
   ]
  },
  {
   "cell_type": "code",
   "execution_count": 51,
   "metadata": {},
   "outputs": [],
   "source": [
    "#Isolate categorical columns for validation data\n",
    "categoricals = X_v.select_dtypes(include= 'object')\n",
    "\n",
    "#Further isolate specific columns to be used\n",
    "X_v_cat = categoricals[['region','management','payment','water_quality', 'quality_group', 'quantity', 'source', 'source_class', 'waterpoint_type', 'bin_age']]\n",
    "\n",
    "#convert all categoricals to string using loop\n",
    "for col in X_t_cat:\n",
    "    X_v_cat[col] = X_v_cat[col].astype('str')"
   ]
  },
  {
   "cell_type": "markdown",
   "metadata": {},
   "source": [
    "Create the numerical and categorical pipelines to pass into the trans pipeline so we can transform all the test data"
   ]
  },
  {
   "cell_type": "code",
   "execution_count": 52,
   "metadata": {},
   "outputs": [],
   "source": [
    "#Create numerical pipeline\n",
    "numerical_pipeline = Pipeline(steps=[\n",
    "    ('ss', StandardScaler())\n",
    "])\n",
    " #Create categorical pipeline               \n",
    "categorical_pipeline = Pipeline(steps=[\n",
    "    ('ohe', OneHotEncoder(categories='auto',\n",
    "                          drop='first',\n",
    "                          sparse=False))\n",
    "])\n",
    "#Pass the pipelines into ColumnTransformer on the training data\n",
    "trans = ColumnTransformer(transformers=[\n",
    "    ('numerical', numerical_pipeline, X_t_nums.columns),\n",
    "    ('categorical', categorical_pipeline, X_t_cat.columns)\n",
    "])"
   ]
  },
  {
   "cell_type": "markdown",
   "metadata": {},
   "source": [
    "Transform all the validation data"
   ]
  },
  {
   "cell_type": "code",
   "execution_count": 53,
   "metadata": {},
   "outputs": [],
   "source": [
    "trans_v = ColumnTransformer(transformers=[\n",
    "    ('numerical', numerical_pipeline, X_v_nums.columns),\n",
    "    ('categorical', categorical_pipeline, X_v_cat.columns)\n",
    "])"
   ]
  },
  {
   "cell_type": "markdown",
   "metadata": {},
   "source": [
    "Create a pipline for each model without speicfying hyperparameters"
   ]
  },
  {
   "cell_type": "code",
   "execution_count": 54,
   "metadata": {},
   "outputs": [],
   "source": [
    "base_pipe_lr = Pipeline([('trans', trans),\n",
    "                    ('LR', LogisticRegression(random_state=42))])\n",
    "\n",
    "base_pipe_dt = Pipeline([('trans', trans),\n",
    "                    ('DT', DecisionTreeClassifier(random_state=42))])\n",
    "\n",
    "base_pipe_rf = Pipeline([('trans', trans),\n",
    "                    ('RF', RandomForestClassifier(random_state=42))])\n",
    "\n",
    "base_pipe_knn = Pipeline([('trans', trans),\n",
    "                    ('KNN', KNeighborsClassifier())])\n",
    "\n",
    "base_pipe_svm = Pipeline([('trans', trans),\n",
    "                     ('SVM', svm.SVC(random_state=42))])\n",
    "\n",
    "base_pipe_xgb = Pipeline([('trans', trans),\n",
    "                     ('XGB', XGBClassifier(random_state=42))])"
   ]
  },
  {
   "cell_type": "markdown",
   "metadata": {},
   "source": [
    "Create a list of pipelines to fit and score."
   ]
  },
  {
   "cell_type": "code",
   "execution_count": 55,
   "metadata": {},
   "outputs": [],
   "source": [
    "base_pipes = [base_pipe_lr, base_pipe_dt, base_pipe_rf, base_pipe_knn, base_pipe_svm, base_pipe_xgb] "
   ]
  },
  {
   "cell_type": "markdown",
   "metadata": {},
   "source": [
    "Loop through the pipelines and fit using training data."
   ]
  },
  {
   "cell_type": "code",
   "execution_count": 56,
   "metadata": {
    "scrolled": true
   },
   "outputs": [
    {
     "name": "stdout",
     "output_type": "stream",
     "text": [
      "Time it took to run the fittings: 177.24123215675354\n"
     ]
    }
   ],
   "source": [
    "start = time.time()\n",
    "\n",
    "for pipe in base_pipes:\n",
    "    pipe.fit(X_t,y_t)\n",
    "    \n",
    "end = time.time()\n",
    "print('Time it took to run the fittings: {}'.format(end-start))"
   ]
  },
  {
   "cell_type": "markdown",
   "metadata": {},
   "source": [
    "The above took 170 seconds, or roughly 3 minutes, to fit all the models"
   ]
  },
  {
   "cell_type": "markdown",
   "metadata": {},
   "source": [
    "Create a dictionary of pipelines so we can print out all the scores. "
   ]
  },
  {
   "cell_type": "code",
   "execution_count": 57,
   "metadata": {},
   "outputs": [],
   "source": [
    "grid_dict = {0: 'Logistic Regression', 1: 'Decision Trees', \n",
    "             2: 'Random Forest', 3: 'K-Nearest Neighbors', \n",
    "             4: 'Support Vector Machines', 5: 'XGBoost'}"
   ]
  },
  {
   "cell_type": "markdown",
   "metadata": {},
   "source": [
    "Print the accuracy score of each of the models. "
   ]
  },
  {
   "cell_type": "code",
   "execution_count": 58,
   "metadata": {
    "scrolled": true
   },
   "outputs": [
    {
     "name": "stdout",
     "output_type": "stream",
     "text": [
      "Logistic Regression Testing Accuracy: 0.7285353535353535\n",
      "Decision Trees Testing Accuracy: 0.7507575757575757\n",
      "Random Forest Testing Accuracy: 0.7901515151515152\n",
      "K-Nearest Neighbors Testing Accuracy: 0.7625420875420875\n",
      "Support Vector Machines Testing Accuracy: 0.7624579124579125\n",
      "XGBoost Testing Accuracy: 0.7938552188552188\n"
     ]
    }
   ],
   "source": [
    "for i, model in enumerate(base_pipes):\n",
    "    print('{} Testing Accuracy: {}'.format(grid_dict[i], model.score(X_v,y_v)))"
   ]
  },
  {
   "cell_type": "markdown",
   "metadata": {},
   "source": [
    "All of the models did a pretty good job. It looks like Random Forests and XGBoost were lot better than the rest. We are going to move one step further tune both of these models to see if we can improve our scores. But first, see the below confusion matrices for random forest and XGBoost."
   ]
  },
  {
   "cell_type": "markdown",
   "metadata": {},
   "source": [
    "#### Random Forest Confusion Matrix"
   ]
  },
  {
   "cell_type": "code",
   "execution_count": 89,
   "metadata": {
    "scrolled": true
   },
   "outputs": [
    {
     "data": {
      "image/png": "[encoded data removed]",
      "text/plain": [
       "<Figure size 432x288 with 2 Axes>"
      ]
     },
     "metadata": {
      "needs_background": "light"
     },
     "output_type": "display_data"
    }
   ],
   "source": [
    "mpl.style.use('seaborn-pastel')\n",
    "plot_confusion_matrix(base_pipe_rf, X_v, y_v, xticks_rotation='vertical', normalize='all');"
   ]
  },
  {
   "cell_type": "markdown",
   "metadata": {},
   "source": [
    "The random forest base model did a good job of predicting functional and non-functional but had a hard time predicting the third class, functional needs repair. "
   ]
  },
  {
   "cell_type": "markdown",
   "metadata": {},
   "source": [
    "#### XGBoost Confusion Matrix"
   ]
  },
  {
   "cell_type": "code",
   "execution_count": 90,
   "metadata": {
    "scrolled": false
   },
   "outputs": [
    {
     "data": {
      "image/png": "[encoded data removed]",
      "text/plain": [
       "<Figure size 432x288 with 2 Axes>"
      ]
     },
     "metadata": {
      "needs_background": "light"
     },
     "output_type": "display_data"
    }
   ],
   "source": [
    "mpl.style.use('seaborn-pastel')\n",
    "plot_confusion_matrix(base_pipe_xgb, X_v, y_v, xticks_rotation='vertical', normalize='all');"
   ]
  },
  {
   "cell_type": "markdown",
   "metadata": {},
   "source": [
    "The XGBoost base model did a good job of predicting functional and non-functional but had a hard time predicting the third class, functional needs repair. "
   ]
  },
  {
   "cell_type": "markdown",
   "metadata": {},
   "source": [
    "# Hyperparamter Tuning and SMOTE for Random Forest and XGBoost"
   ]
  },
  {
   "cell_type": "markdown",
   "metadata": {},
   "source": [
    "First we create the two pipelines below that will transform, resample and fit our data."
   ]
  },
  {
   "cell_type": "code",
   "execution_count": 91,
   "metadata": {},
   "outputs": [],
   "source": [
    "hyper_pipe_rf = imbPipeline([('trans', trans),\n",
    "                    ('smote', SMOTE(random_state=42)),\n",
    "                    ('RF', RandomForestClassifier(random_state=42))])\n",
    "\n",
    "hyper_pipe_xgb = imbPipeline([('trans', trans),\n",
    "                     ('smote', SMOTE(random_state=42)),\n",
    "                     ('XGB', XGBClassifier(random_state=42))])"
   ]
  },
  {
   "cell_type": "markdown",
   "metadata": {},
   "source": [
    "We then create a paramater grid for each model with various hyperpareters that we will test. "
   ]
  },
  {
   "cell_type": "code",
   "execution_count": 93,
   "metadata": {},
   "outputs": [],
   "source": [
    "#Random Forest hyperparameters\n",
    "min_samples_split = [4,6,8]\n",
    "n_estimators = [1000]\n",
    "\n",
    "#Create grid\n",
    "rf_param_grid = [{'RF__min_samples_split': min_samples_split,\n",
    "                   'RF__n_estimators': n_estimators}]\n",
    "\n",
    "#XGBoost Hyperparameters\n",
    "learning_rates = [.2,.3]\n",
    "max_depth_XGB = [6,8]\n",
    "min_child_weight = [1,5]\n",
    "\n",
    "#Create grid\n",
    "xgb_param_grid = [{'XGB__learning_rate': learning_rates,\n",
    "                    'XGB__max_depth': max_depth_XGB,\n",
    "                    'XGB__min_child_weight': min_child_weight}] "
   ]
  },
  {
   "cell_type": "markdown",
   "metadata": {},
   "source": [
    "Now we call GridSearchCV below and pass in the pipline and the param_grid for each model."
   ]
  },
  {
   "cell_type": "code",
   "execution_count": 94,
   "metadata": {},
   "outputs": [],
   "source": [
    "rf_grid_search = GridSearchCV(estimator=hyper_pipe_rf,\n",
    "        param_grid=rf_param_grid,\n",
    "        scoring='accuracy',\n",
    "        cv=2,\n",
    "        n_jobs=-1) \n",
    "\n",
    "xgb_grid_search = GridSearchCV(estimator=hyper_pipe_xgb,\n",
    "        param_grid=xgb_param_grid,\n",
    "        scoring='accuracy',\n",
    "        cv=2,\n",
    "        n_jobs=-1) "
   ]
  },
  {
   "cell_type": "markdown",
   "metadata": {},
   "source": [
    "Create a list of grid searches."
   ]
  },
  {
   "cell_type": "code",
   "execution_count": 95,
   "metadata": {},
   "outputs": [],
   "source": [
    "hyper_grids = [rf_grid_search, xgb_grid_search]"
   ]
  },
  {
   "cell_type": "markdown",
   "metadata": {},
   "source": [
    "Create a dictionary of grid searches."
   ]
  },
  {
   "cell_type": "code",
   "execution_count": 96,
   "metadata": {},
   "outputs": [],
   "source": [
    "hyper_grid_dict = {0: 'Random Forest', 1: 'XGBoost'}"
   ]
  },
  {
   "cell_type": "markdown",
   "metadata": {},
   "source": [
    "Loop through both pipelines and fit them. We have also added the time it took to fit both pipelines. "
   ]
  },
  {
   "cell_type": "code",
   "execution_count": 97,
   "metadata": {},
   "outputs": [
    {
     "name": "stdout",
     "output_type": "stream",
     "text": [
      "Time it took to run the fittings: 472.8272440433502\n"
     ]
    }
   ],
   "source": [
    "start = time.time()\n",
    "\n",
    "for pipe in hyper_grids:\n",
    "    pipe.fit(X_t,y_t)\n",
    "    \n",
    "end = time.time()\n",
    "print('Time it took to run the fittings: {}'.format(end-start))"
   ]
  },
  {
   "cell_type": "markdown",
   "metadata": {},
   "source": [
    "The below code will print out the accuracy of each model and the best parameters from the grid search. "
   ]
  },
  {
   "cell_type": "code",
   "execution_count": 99,
   "metadata": {
    "scrolled": true
   },
   "outputs": [
    {
     "name": "stdout",
     "output_type": "stream",
     "text": [
      "Random Forest Train Accuracy: 0.782070707070707\n",
      "Random Forest Best Params: {'RF__min_samples_split': 4, 'RF__n_estimators': 1000}\n",
      "XGBoost Train Accuracy: 0.7743265993265993\n",
      "XGBoost Best Params: {'XGB__learning_rate': 0.3, 'XGB__max_depth': 8, 'XGB__min_child_weight': 1}\n"
     ]
    }
   ],
   "source": [
    "for i, model in enumerate(hyper_grids):\n",
    "    print('{} Train Accuracy: {}'.format(hyper_grid_dict[i], model.score(X_v,y_v)))\n",
    "    print('{} Best Params: {}'.format(hyper_grid_dict[i], model.best_params_))"
   ]
  },
  {
   "cell_type": "markdown",
   "metadata": {},
   "source": [
    "Random Forest had the best accuracy, so we will use the random forest model as our final model."
   ]
  },
  {
   "cell_type": "markdown",
   "metadata": {},
   "source": [
    "# Final Model Evaluation"
   ]
  },
  {
   "cell_type": "code",
   "execution_count": 102,
   "metadata": {
    "scrolled": false
   },
   "outputs": [
    {
     "data": {
      "image/png": "[encoded data removed]",
      "text/plain": [
       "<Figure size 432x288 with 2 Axes>"
      ]
     },
     "metadata": {
      "needs_background": "light"
     },
     "output_type": "display_data"
    }
   ],
   "source": [
    "plot_confusion_matrix(rf_grid_search, X_v, y_v, xticks_rotation='vertical', normalize='all');"
   ]
  },
  {
   "cell_type": "markdown",
   "metadata": {},
   "source": [
    "You can see the final random forest model did a good job of predicting functional and non-functional but still did not do a very good job at predicting functional needs repair even after we implored SMOTE. "
   ]
  },
  {
   "cell_type": "markdown",
   "metadata": {},
   "source": [
    "# Submission Predictions"
   ]
  },
  {
   "cell_type": "markdown",
   "metadata": {},
   "source": [
    "#### Preprocess all of X_test"
   ]
  },
  {
   "cell_type": "code",
   "execution_count": null,
   "metadata": {},
   "outputs": [],
   "source": [
    "columns = X_test[['funder', 'installer', 'subvillage', 'scheme_management']]\n",
    "impute_unknown(X_test, columns)"
   ]
  },
  {
   "cell_type": "code",
   "execution_count": null,
   "metadata": {},
   "outputs": [],
   "source": [
    "columns = X_test[['public_meeting', 'permit']]\n",
    "impute_false(X_test, columns)"
   ]
  },
  {
   "cell_type": "code",
   "execution_count": null,
   "metadata": {},
   "outputs": [],
   "source": [
    "columns = X_test[['population', 'gps_height', 'latitude', 'longitude']]\n",
    "replace_zeros_mean(X_test, columns)"
   ]
  },
  {
   "cell_type": "code",
   "execution_count": null,
   "metadata": {},
   "outputs": [],
   "source": [
    "columns = X_test[['construction_year']]\n",
    "\n",
    "replace_zeros_median(X_test, columns)"
   ]
  },
  {
   "cell_type": "code",
   "execution_count": null,
   "metadata": {},
   "outputs": [],
   "source": [
    "X_test['latitude'].replace(to_replace = -2.000000e-08 , value =np.mean(X_test['latitude']), inplace=True)"
   ]
  },
  {
   "cell_type": "code",
   "execution_count": null,
   "metadata": {},
   "outputs": [],
   "source": [
    "X_test.drop(['id','amount_tsh', 'num_private', 'region_code', 'quantity_group', \n",
    "              'source_type', 'payment_type', 'waterpoint_type_group', \n",
    "              'extraction_type_group', 'extraction_type_class','recorded_by'], \n",
    "               axis = 'columns', inplace=True)"
   ]
  },
  {
   "cell_type": "code",
   "execution_count": null,
   "metadata": {},
   "outputs": [],
   "source": [
    "#Convert the date_recorded to datetime column\n",
    "X_test['date_recorded'] = pd.to_datetime(X_test['date_recorded'])"
   ]
  },
  {
   "cell_type": "code",
   "execution_count": null,
   "metadata": {},
   "outputs": [],
   "source": [
    "#Create the month and month number column from the date column\n",
    "X_test['month_recorded'] = X_test['date_recorded'].dt.month_name()\n",
    "X_test['month_num_recorded'] = X_test['date_recorded'].dt.month"
   ]
  },
  {
   "cell_type": "code",
   "execution_count": null,
   "metadata": {},
   "outputs": [],
   "source": [
    "#Create the year recorded from date column\n",
    "X_test['year_recorded'] = X_test['date_recorded'].dt.year"
   ]
  },
  {
   "cell_type": "code",
   "execution_count": null,
   "metadata": {},
   "outputs": [],
   "source": [
    "X_test['age'] = X_test['year_recorded'].max() - X_test['construction_year']"
   ]
  },
  {
   "cell_type": "code",
   "execution_count": null,
   "metadata": {},
   "outputs": [],
   "source": [
    "X_test['bin_age'] = X_test['age'].apply(bin_age)"
   ]
  },
  {
   "cell_type": "code",
   "execution_count": null,
   "metadata": {},
   "outputs": [],
   "source": [
    "X_test['installer_count'] = X_test.groupby('installer')['year_recorded'].transform(lambda grp: len(grp))"
   ]
  },
  {
   "cell_type": "code",
   "execution_count": null,
   "metadata": {},
   "outputs": [],
   "source": [
    "X_test['bin_installer_count'] = X_test['installer_count'].apply(bin_installer)"
   ]
  },
  {
   "cell_type": "code",
   "execution_count": null,
   "metadata": {},
   "outputs": [],
   "source": [
    "X_test['public_meeting'] = (X_test['public_meeting'] == 'TRUE').astype(int)\n",
    "X_test['permit'] = (X_test['permit'] == 'TRUE').astype(int)"
   ]
  },
  {
   "cell_type": "code",
   "execution_count": null,
   "metadata": {},
   "outputs": [],
   "source": [
    "#Isolate numerical columns for train data\n",
    "numericals = X_test.select_dtypes(include=['int64', 'float64'])\n",
    "\n",
    "#convert all numericals to float using loop\n",
    "X_test_nums = numericals\n",
    "\n",
    "for col in X_test_nums:\n",
    "    X_test_nums[col] = X_test_nums[col].astype('float64')"
   ]
  },
  {
   "cell_type": "code",
   "execution_count": null,
   "metadata": {},
   "outputs": [],
   "source": [
    "#Isolate categorical columns for training data\n",
    "categoricals = X_test.select_dtypes(include= 'object')\n",
    "\n",
    "#Further isolate specific columns to be used\n",
    "X_test_cat = categoricals[['region','management','payment','water_quality', 'quality_group', 'quantity', 'source', 'source_class', 'waterpoint_type', 'bin_age']]\n",
    "\n",
    "#convert all categoricals to string using loop\n",
    "for col in X_test_cat:\n",
    "    X_test_cat[col] = X_test_cat[col].astype('str')"
   ]
  },
  {
   "cell_type": "code",
   "execution_count": null,
   "metadata": {},
   "outputs": [],
   "source": [
    "#Create numerical pipeline\n",
    "numerical_pipeline = Pipeline(steps=[\n",
    "    ('ss', StandardScaler())\n",
    "])\n",
    " #Create categorical pipeline               \n",
    "categorical_pipeline = Pipeline(steps=[\n",
    "    ('ohe', OneHotEncoder(categories='auto',\n",
    "                          drop='first',\n",
    "                          sparse=False))\n",
    "])\n",
    "#Pass the pipelines into ColumnTransformer on the training data\n",
    "trans = ColumnTransformer(transformers=[\n",
    "    ('numerical', numerical_pipeline, X_train_nums.columns),\n",
    "    ('categorical', categorical_pipeline, X_train_cat.columns)\n",
    "])"
   ]
  },
  {
   "cell_type": "code",
   "execution_count": null,
   "metadata": {},
   "outputs": [],
   "source": [
    "y_hat = rf_grid_search.predict(X_test)"
   ]
  },
  {
   "cell_type": "code",
   "execution_count": null,
   "metadata": {},
   "outputs": [],
   "source": [
    "#np.savetxt('final_predictions.csv', y_hat, delimiter=',')"
   ]
  },
  {
   "cell_type": "markdown",
   "metadata": {},
   "source": [
    "# Conclusions"
   ]
  },
  {
   "cell_type": "markdown",
   "metadata": {},
   "source": [
    "**1. Start fixing wells that are non-functional and located where the counts are the highest .** \n",
    "\n",
    "**2. Recommend replalcing non-functional wells with the top installers.**\n",
    "\n",
    "**3. Consider using this type of well.** "
   ]
  },
  {
   "cell_type": "markdown",
   "metadata": {},
   "source": [
    "# Next Steps"
   ]
  },
  {
   "cell_type": "markdown",
   "metadata": {},
   "source": [
    "Further analyses could provide even more insight into how you will advise your clients to buy or sell thier home. \n",
    "\n",
    "**Better idea of features of a home** Other features that indacate home sale include the color of the home, number of windows, garage indicator, size of garage, pool indicator, size of lawn, full property size, flood indicater, style of the home, among others.\n",
    "\n",
    "**Better idea of neighborhood and surrounding neighborhoods.** We could gather more qualitative data on surrounding neighborhoods such as neighborhood safety, population demographics, and other idicators that may predict the price of a home. You could get an idea of proximity to schools, grocery stores, the city.\n",
    "\n",
    "**Better idea of surrounding counties in Washington.** We could gather data from other counties and compare, county to county, how sale prices fluctuate. Other macro indicators of county could be political climate, social programs, broader proxiimity to major highways. \n",
    "\n",
    "**Better idea of sale history.** We had a fairly good sample of two years worth of data, but it would be good to gather even more years of sales data in King County further solidify reccomendations. There may be features of the home that are better at predicting sale price now then they were 5 or 10 years ago. "
   ]
  },
  {
   "cell_type": "code",
   "execution_count": null,
   "metadata": {},
   "outputs": [],
   "source": []
  }
 ],
 "metadata": {
  "kernelspec": {
   "display_name": "Python (learn-env)",
   "language": "python",
   "name": "learn-env"
  },
  "language_info": {
   "codemirror_mode": {
    "name": "ipython",
    "version": 3
   },
   "file_extension": ".py",
   "mimetype": "text/x-python",
   "name": "python",
   "nbconvert_exporter": "python",
   "pygments_lexer": "ipython3",
   "version": "3.8.5"
  }
 },
 "nbformat": 4,
 "nbformat_minor": 4
}
